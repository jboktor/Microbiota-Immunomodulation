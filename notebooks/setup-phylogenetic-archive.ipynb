{
 "cells": [
  {
   "attachments": {},
   "cell_type": "markdown",
   "metadata": {},
   "source": [
    "This notebook subsamples, downloads, and formats RefSeq genomes for use in the phylogenetic archive. Here we use the following script to query and download genomes as of (2023-05-17) <https://github.com/qiyunzhu/utils/blob/main/refseq_build.py>"
   ]
  },
  {
   "cell_type": "code",
   "execution_count": 1,
   "metadata": {},
   "outputs": [
    {
     "name": "stdout",
     "output_type": "stream",
     "text": [
      "Database building started at 2023-05-20 18:30:21.698187.\n",
      "Downloading NCBI taxonomy database... done.\n",
      "Reading NCBI taxonomy database... done.\n",
      "  Total number of TaxIDs: 2505567.\n",
      "Downloading RefSeq assembly summary... done.\n",
      "Reading RefSeq assembly summary... done.\n",
      "Downloading GenBank assembly summary... done.\n",
      "Reading GenBank assembly summary... done.\n",
      "  Total number of genomes: 1976675.\n",
      "Genome categories: archaea, bacteria, fungi, invertebrate, plant, protozoa, vertebrate_mammalian, vertebrate_other\n",
      "Downloading genome list per RefSeq category...\n",
      "  archaea: 1493\n",
      "  bacteria: 286704\n",
      "  fungi: 502\n",
      "  invertebrate: 351\n",
      "  plant: 161\n",
      "  protozoa: 96\n",
      "  vertebrate_mammalian: 209\n",
      "  vertebrate_other: 324\n",
      "Done.\n",
      "Downloading genome list per GenBank category...\n",
      "  archaea: 15006\n",
      "  bacteria: 1549597\n",
      "  fungi: 14624\n",
      "  invertebrate: 5510\n",
      "  plant: 3223\n",
      "  protozoa: 1879\n",
      "  vertebrate_mammalian: 2708\n",
      "  vertebrate_other: 3376\n",
      "Done.\n",
      "  Total number of genomes in categories: 1885763.\n",
      "Filtering genomes...\n"
     ]
    },
    {
     "name": "stderr",
     "output_type": "stream",
     "text": [
      "/central/groups/MazmanianLab/joeB/Microbiota-Immunomodulation/Microbiota-Immunomodulation/notebooks/python-scripts/refseq_build.py:433: FutureWarning: In a future version of pandas all arguments of StringMethods.split except for the argument 'pat' will be keyword-only.\n",
      "  self.df['accnov'] = self.df['accession'].str.split('.', 1).str[0]\n",
      "/central/groups/MazmanianLab/joeB/Microbiota-Immunomodulation/Microbiota-Immunomodulation/notebooks/python-scripts/refseq_build.py:434: FutureWarning: In a future version of pandas all arguments of StringMethods.split except for the argument 'pat' will be keyword-only.\n",
      "  self.df['genome'] = 'G' + self.df['accnov'].str.split('_', 1).str[-1]\n"
     ]
    },
    {
     "name": "stdout",
     "output_type": "stream",
     "text": [
      "  Dropped 289893 genomes without download link.\n",
      "Done.\n",
      "Filtering genomes by taxonomy...\n",
      "  Dropped 72215 genomes with one or more blocked words in organism name.\n",
      "  Dropped 10 genomes without valid taxId.\n",
      "Done.\n",
      "Sampling genomes based on taxonomy...\n",
      "Up to 1 genome(s) will be sampled per genus.\n",
      "  Sampled 10165 genomes from 10165 genera.\n",
      "Sampling will also be performed on: family, order, class, phylum.\n",
      "  Sampled 13 more genomes from 13 families.\n",
      "  Sampled 7 more genomes from 7 orders.\n",
      "  Sampled 8 more genomes from 8 classes.\n",
      "  Sampled 107 more genomes from 107 phyla.\n",
      "  Sampled a total of 10300 genomes at genus and above.\n",
      "Include 22 reference genomes.\n",
      "Include 29972 representative genomes.\n",
      "Total number of sampled genomes: 30957.\n",
      "URLs of sampled genomes written to urls.txt. You may manually download them later.\n"
     ]
    }
   ],
   "source": [
    "%%bash\n",
    "\n",
    "mkdir -p ../data/interim/refseq_genomes/genus_sampling\n",
    "python-scripts/refseq_build.py --output ../data/interim/refseq_genomes/genus_sampling \\\n",
    "    --genbank \\\n",
    "    --sample 1 \\\n",
    "    --rank genus \\\n",
    "    --cats archaea,bacteria,fungi,invertebrate,plant,protozoa,vertebrate_mammalian,vertebrate_other \\\n",
    "    --manual \\\n",
    "    --above \\\n",
    "    --reference \\\n",
    "    --represent\n",
    "    "
   ]
  },
  {
   "cell_type": "code",
   "execution_count": 1,
   "metadata": {},
   "outputs": [
    {
     "name": "stdout",
     "output_type": "stream",
     "text": [
      "Database building started at 2023-05-21 23:36:33.490629.\n",
      "  Using local file taxdump.tar.gz.\n",
      "Reading NCBI taxonomy database... done.\n",
      "  Total number of TaxIDs: 2505567.\n",
      "  Using local file assembly_summary_refseq.txt.\n",
      "Reading RefSeq assembly summary... done.\n",
      "  Using local file assembly_summary_genbank.txt.\n",
      "Reading GenBank assembly summary... done.\n",
      "  Total number of genomes: 1976675.\n",
      "Genome categories: archaea, bacteria, fungi, invertebrate, plant, protozoa, vertebrate_mammalian, vertebrate_other\n",
      "Downloading genome list per RefSeq category...\n",
      "  Using local file refseq_archaea.txt.\n",
      "  archaea: 1493\n",
      "  Using local file refseq_bacteria.txt.\n",
      "  bacteria: 286704\n",
      "  Using local file refseq_fungi.txt.\n",
      "  fungi: 502\n",
      "  Using local file refseq_invertebrate.txt.\n",
      "  invertebrate: 351\n",
      "  Using local file refseq_plant.txt.\n",
      "  plant: 161\n",
      "  Using local file refseq_protozoa.txt.\n",
      "  protozoa: 96\n",
      "  Using local file refseq_vertebrate_mammalian.txt.\n",
      "  vertebrate_mammalian: 209\n",
      "  Using local file refseq_vertebrate_other.txt.\n",
      "  vertebrate_other: 324\n",
      "Done.\n",
      "Downloading genome list per GenBank category...\n",
      "  Using local file genbank_archaea.txt.\n",
      "  archaea: 15006\n",
      "  Using local file genbank_bacteria.txt.\n",
      "  bacteria: 1549597\n",
      "  Using local file genbank_fungi.txt.\n",
      "  fungi: 14624\n",
      "  Using local file genbank_invertebrate.txt.\n",
      "  invertebrate: 5510\n",
      "  Using local file genbank_plant.txt.\n",
      "  plant: 3223\n",
      "  Using local file genbank_protozoa.txt.\n",
      "  protozoa: 1879\n",
      "  Using local file genbank_vertebrate_mammalian.txt.\n",
      "  vertebrate_mammalian: 2708\n",
      "  Using local file genbank_vertebrate_other.txt.\n",
      "  vertebrate_other: 3376\n",
      "Done.\n",
      "  Total number of genomes in categories: 1885763.\n",
      "Filtering genomes...\n"
     ]
    },
    {
     "name": "stderr",
     "output_type": "stream",
     "text": [
      "/central/groups/MazmanianLab/joeB/Microbiota-Immunomodulation/Microbiota-Immunomodulation/notebooks/python-scripts/refseq_build.py:433: FutureWarning: In a future version of pandas all arguments of StringMethods.split except for the argument 'pat' will be keyword-only.\n",
      "  self.df['accnov'] = self.df['accession'].str.split('.', 1).str[0]\n",
      "/central/groups/MazmanianLab/joeB/Microbiota-Immunomodulation/Microbiota-Immunomodulation/notebooks/python-scripts/refseq_build.py:434: FutureWarning: In a future version of pandas all arguments of StringMethods.split except for the argument 'pat' will be keyword-only.\n",
      "  self.df['genome'] = 'G' + self.df['accnov'].str.split('_', 1).str[-1]\n"
     ]
    },
    {
     "name": "stdout",
     "output_type": "stream",
     "text": [
      "  Dropped 289893 genomes without download link.\n",
      "Done.\n",
      "Filtering genomes by taxonomy...\n",
      "  Dropped 72215 genomes with one or more blocked words in organism name.\n",
      "  Dropped 10 genomes without valid taxId.\n",
      "Done.\n",
      "Sampling genomes based on taxonomy...\n",
      "Up to 1 genome(s) will be sampled per genus.\n",
      "  Sampled 10165 genomes from 10165 genera.\n",
      "Sampling will also be performed on: family, order, class, phylum.\n",
      "  Sampled 13 more genomes from 13 families.\n",
      "  Sampled 7 more genomes from 7 orders.\n",
      "  Sampled 8 more genomes from 8 classes.\n",
      "  Sampled 107 more genomes from 107 phyla.\n",
      "  Sampled a total of 10300 genomes at genus and above.\n",
      "Include 22 reference genomes.\n",
      "Include 29972 representative genomes.\n",
      "Total number of sampled genomes: 30957.\n",
      "Genome-to-taxonomy ID map written to taxid.map.\n",
      "Number of taxonomic groups represented:\n",
      "  superkingdom: 3.\n",
      "  kingdom: 3.\n",
      "  phylum: 266.\n",
      "  class: 364.\n",
      "  order: 1013.\n",
      "  family: 2889.\n",
      "  genus: 10165.\n",
      "  species: 30950.\n",
      "Genome lineages written to lineages.txt.\n",
      "Taxonomy database written to nodes.dmp and names.dmp.\n",
      "Genome metadata written to metadata.tsv.\n",
      "Database building finished at 2023-05-21 23:38:44.453832.\n"
     ]
    }
   ],
   "source": [
    "%%bash\n",
    "\n",
    "python-scripts/refseq_build.py --output ../data/interim/refseq_genomes/genus_sampling \\\n",
    "    --genbank \\\n",
    "    --sample 1 \\\n",
    "    --rank genus \\\n",
    "    --cats archaea,bacteria,fungi,invertebrate,plant,protozoa,vertebrate_mammalian,vertebrate_other \\\n",
    "    --above \\\n",
    "    --reference \\\n",
    "    --represent"
   ]
  },
  {
   "cell_type": "code",
   "execution_count": 1,
   "metadata": {},
   "outputs": [
    {
     "name": "stdout",
     "output_type": "stream",
     "text": [
      "Database building started at 2023-05-28 13:36:46.799786.\n",
      "Downloading NCBI taxonomy database... done.\n",
      "Reading NCBI taxonomy database... done.\n",
      "  Total number of TaxIDs: 2505704.\n",
      "Downloading RefSeq assembly summary... done.\n",
      "Reading RefSeq assembly summary... done.\n",
      "Downloading GenBank assembly summary... done.\n",
      "Reading GenBank assembly summary... done.\n",
      "  Total number of genomes: 1983153.\n",
      "Genome categories: archaea, bacteria, fungi, invertebrate, plant, protozoa, vertebrate_mammalian, vertebrate_other\n",
      "Downloading genome list per RefSeq category...\n",
      "  archaea: 1499\n",
      "  bacteria: 287934\n",
      "  fungi: 504\n",
      "  invertebrate: 351\n",
      "  plant: 162\n",
      "  protozoa: 96\n",
      "  vertebrate_mammalian: 209\n",
      "  vertebrate_other: 330\n",
      "Done.\n",
      "Downloading genome list per GenBank category...\n",
      "  archaea: 15258\n",
      "  bacteria: 1553630\n",
      "  fungi: 14663\n",
      "  invertebrate: 5522\n",
      "  plant: 3229\n",
      "  protozoa: 1881\n",
      "  vertebrate_mammalian: 2719\n",
      "  vertebrate_other: 3395\n",
      "Done.\n",
      "  Total number of genomes in categories: 1891382.\n",
      "Filtering genomes...\n"
     ]
    },
    {
     "name": "stderr",
     "output_type": "stream",
     "text": [
      "/central/groups/MazmanianLab/joeB/Microbiota-Immunomodulation/Microbiota-Immunomodulation/notebooks/python-scripts/refseq_build.py:433: FutureWarning: In a future version of pandas all arguments of StringMethods.split except for the argument 'pat' will be keyword-only.\n",
      "  self.df['accnov'] = self.df['accession'].str.split('.', 1).str[0]\n",
      "/central/groups/MazmanianLab/joeB/Microbiota-Immunomodulation/Microbiota-Immunomodulation/notebooks/python-scripts/refseq_build.py:434: FutureWarning: In a future version of pandas all arguments of StringMethods.split except for the argument 'pat' will be keyword-only.\n",
      "  self.df['genome'] = 'G' + self.df['accnov'].str.split('_', 1).str[-1]\n"
     ]
    },
    {
     "name": "stdout",
     "output_type": "stream",
     "text": [
      "  Dropped 291177 genomes without download link.\n",
      "Done.\n",
      "Filtering genomes by taxonomy...\n",
      "  Dropped 72290 genomes with one or more blocked words in organism name.\n",
      "  Dropped 99 genomes without valid taxId.\n",
      "Done.\n",
      "Sampling genomes based on taxonomy...\n",
      "Up to 1 genome(s) will be sampled per genus.\n",
      "  Sampled 10187 genomes from 10187 genera.\n",
      "Sampling will also be performed on: family, order, class, phylum.\n",
      "  Sampled 12 more genomes from 12 families.\n",
      "  Sampled 7 more genomes from 7 orders.\n",
      "  Sampled 8 more genomes from 8 classes.\n",
      "  Sampled 107 more genomes from 107 phyla.\n",
      "  Sampled a total of 10321 genomes at genus and above.\n",
      "Include 22 reference genomes.\n",
      "Include 30017 representative genomes.\n",
      "Total number of sampled genomes: 31003.\n",
      "Genome-to-taxonomy ID map written to taxid.map.\n",
      "Number of taxonomic groups represented:\n",
      "  superkingdom: 3.\n",
      "  kingdom: 3.\n",
      "  phylum: 266.\n",
      "  class: 366.\n",
      "  order: 1017.\n",
      "  family: 2893.\n",
      "  genus: 10187.\n",
      "  species: 30995.\n",
      "Genome lineages written to lineages.txt.\n",
      "Taxonomy database written to nodes.dmp and names.dmp.\n",
      "Genome metadata written to metadata.tsv.\n",
      "Database building finished at 2023-05-28 13:39:44.841578.\n"
     ]
    }
   ],
   "source": [
    "%%bash\n",
    "\n",
    "mkdir -p /central/scratch/jbok/refseq_proteins/genus_sampling\n",
    "\n",
    "python-scripts/refseq_build.py --output /central/scratch/jbok/refseq_proteins/genus_sampling \\\n",
    "    --genbank \\\n",
    "    --sample 1 \\\n",
    "    --rank genus \\\n",
    "    --cats archaea,bacteria,fungi,invertebrate,plant,protozoa,vertebrate_mammalian,vertebrate_other \\\n",
    "    --filext protein.faa \\\n",
    "    --above \\\n",
    "    --reference \\\n",
    "    --represent\n",
    "    \n",
    "    # --manual \\"
   ]
  },
  {
   "attachments": {},
   "cell_type": "markdown",
   "metadata": {},
   "source": []
  }
 ],
 "metadata": {
  "kernelspec": {
   "display_name": "Python 3",
   "language": "python",
   "name": "python3"
  },
  "language_info": {
   "codemirror_mode": {
    "name": "ipython",
    "version": 3
   },
   "file_extension": ".py",
   "mimetype": "text/x-python",
   "name": "python",
   "nbconvert_exporter": "python",
   "pygments_lexer": "ipython3",
   "version": "3.10.9"
  },
  "orig_nbformat": 4
 },
 "nbformat": 4,
 "nbformat_minor": 2
}
