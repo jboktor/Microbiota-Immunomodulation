{
 "cells": [
  {
   "cell_type": "markdown",
   "metadata": {},
   "source": [
    "Installing Dependencies..."
   ]
  },
  {
   "cell_type": "code",
   "execution_count": 1,
   "metadata": {},
   "outputs": [],
   "source": [
    "import os\n",
    "import sys\n",
    "import torch\n",
    "os.environ['TORCH_HOME'] = '/central/groups/MazmanianLab/joeB/cache/GeoDock/geodock/weights'"
   ]
  },
  {
   "cell_type": "code",
   "execution_count": 3,
   "metadata": {},
   "outputs": [
    {
     "name": "stdout",
     "output_type": "stream",
     "text": [
      "Requirement already satisfied: geodock in /central/groups/MazmanianLab/joeB/software/mambaforge/envs/geodock/lib/python3.10/site-packages (1.0.4)\n",
      "Requirement already satisfied: torch>=2.0.1 in /central/groups/MazmanianLab/joeB/software/mambaforge/envs/geodock/lib/python3.10/site-packages (from geodock) (2.1.0)\n",
      "Requirement already satisfied: pytorch-lightning>=1.8.6 in /central/groups/MazmanianLab/joeB/software/mambaforge/envs/geodock/lib/python3.10/site-packages (from geodock) (2.1.1)\n",
      "Requirement already satisfied: einops>=0.6.0 in /central/groups/MazmanianLab/joeB/software/mambaforge/envs/geodock/lib/python3.10/site-packages (from geodock) (0.7.0)\n",
      "Requirement already satisfied: biotite>=0.37.0 in /central/groups/MazmanianLab/joeB/software/mambaforge/envs/geodock/lib/python3.10/site-packages (from geodock) (0.38.0)\n",
      "Requirement already satisfied: fair-esm>=2.0.0 in /central/groups/MazmanianLab/joeB/software/mambaforge/envs/geodock/lib/python3.10/site-packages (from geodock) (2.0.0)\n",
      "Requirement already satisfied: requests>=2.12 in /central/groups/MazmanianLab/joeB/software/mambaforge/envs/geodock/lib/python3.10/site-packages (from biotite>=0.37.0->geodock) (2.31.0)\n",
      "Requirement already satisfied: numpy>=1.14.5 in /central/groups/MazmanianLab/joeB/software/mambaforge/envs/geodock/lib/python3.10/site-packages (from biotite>=0.37.0->geodock) (1.26.1)\n",
      "Requirement already satisfied: msgpack>=0.5.6 in /central/groups/MazmanianLab/joeB/software/mambaforge/envs/geodock/lib/python3.10/site-packages (from biotite>=0.37.0->geodock) (1.0.7)\n",
      "Requirement already satisfied: networkx>=2.0 in /central/groups/MazmanianLab/joeB/software/mambaforge/envs/geodock/lib/python3.10/site-packages (from biotite>=0.37.0->geodock) (3.2.1)\n",
      "Requirement already satisfied: tqdm>=4.57.0 in /central/groups/MazmanianLab/joeB/software/mambaforge/envs/geodock/lib/python3.10/site-packages (from pytorch-lightning>=1.8.6->geodock) (4.66.1)\n",
      "Requirement already satisfied: PyYAML>=5.4 in /central/home/jboktor/.local/lib/python3.10/site-packages (from pytorch-lightning>=1.8.6->geodock) (6.0)\n",
      "Requirement already satisfied: fsspec>2021.06.0 in /central/groups/MazmanianLab/joeB/software/mambaforge/envs/geodock/lib/python3.10/site-packages (from fsspec[http]>2021.06.0->pytorch-lightning>=1.8.6->geodock) (2023.10.0)\n",
      "Requirement already satisfied: torchmetrics>=0.7.0 in /central/groups/MazmanianLab/joeB/software/mambaforge/envs/geodock/lib/python3.10/site-packages (from pytorch-lightning>=1.8.6->geodock) (1.2.0)\n",
      "Requirement already satisfied: packaging>=20.0 in /central/groups/MazmanianLab/joeB/software/mambaforge/envs/geodock/lib/python3.10/site-packages (from pytorch-lightning>=1.8.6->geodock) (23.2)\n",
      "Requirement already satisfied: typing-extensions>=4.0.0 in /central/groups/MazmanianLab/joeB/software/mambaforge/envs/geodock/lib/python3.10/site-packages (from pytorch-lightning>=1.8.6->geodock) (4.8.0)\n",
      "Requirement already satisfied: lightning-utilities>=0.8.0 in /central/groups/MazmanianLab/joeB/software/mambaforge/envs/geodock/lib/python3.10/site-packages (from pytorch-lightning>=1.8.6->geodock) (0.9.0)\n",
      "Requirement already satisfied: filelock in /central/groups/MazmanianLab/joeB/software/mambaforge/envs/geodock/lib/python3.10/site-packages (from torch>=2.0.1->geodock) (3.13.1)\n",
      "Requirement already satisfied: sympy in /central/groups/MazmanianLab/joeB/software/mambaforge/envs/geodock/lib/python3.10/site-packages (from torch>=2.0.1->geodock) (1.12)\n",
      "Requirement already satisfied: jinja2 in /central/groups/MazmanianLab/joeB/software/mambaforge/envs/geodock/lib/python3.10/site-packages (from torch>=2.0.1->geodock) (3.1.2)\n",
      "Requirement already satisfied: nvidia-cuda-nvrtc-cu12==12.1.105 in /central/groups/MazmanianLab/joeB/software/mambaforge/envs/geodock/lib/python3.10/site-packages (from torch>=2.0.1->geodock) (12.1.105)\n",
      "Requirement already satisfied: nvidia-cuda-runtime-cu12==12.1.105 in /central/groups/MazmanianLab/joeB/software/mambaforge/envs/geodock/lib/python3.10/site-packages (from torch>=2.0.1->geodock) (12.1.105)\n",
      "Requirement already satisfied: nvidia-cuda-cupti-cu12==12.1.105 in /central/groups/MazmanianLab/joeB/software/mambaforge/envs/geodock/lib/python3.10/site-packages (from torch>=2.0.1->geodock) (12.1.105)\n",
      "Requirement already satisfied: nvidia-cudnn-cu12==8.9.2.26 in /central/groups/MazmanianLab/joeB/software/mambaforge/envs/geodock/lib/python3.10/site-packages (from torch>=2.0.1->geodock) (8.9.2.26)\n",
      "Requirement already satisfied: nvidia-cublas-cu12==12.1.3.1 in /central/groups/MazmanianLab/joeB/software/mambaforge/envs/geodock/lib/python3.10/site-packages (from torch>=2.0.1->geodock) (12.1.3.1)\n",
      "Requirement already satisfied: nvidia-cufft-cu12==11.0.2.54 in /central/groups/MazmanianLab/joeB/software/mambaforge/envs/geodock/lib/python3.10/site-packages (from torch>=2.0.1->geodock) (11.0.2.54)\n",
      "Requirement already satisfied: nvidia-curand-cu12==10.3.2.106 in /central/groups/MazmanianLab/joeB/software/mambaforge/envs/geodock/lib/python3.10/site-packages (from torch>=2.0.1->geodock) (10.3.2.106)\n",
      "Requirement already satisfied: nvidia-cusolver-cu12==11.4.5.107 in /central/groups/MazmanianLab/joeB/software/mambaforge/envs/geodock/lib/python3.10/site-packages (from torch>=2.0.1->geodock) (11.4.5.107)\n",
      "Requirement already satisfied: nvidia-cusparse-cu12==12.1.0.106 in /central/groups/MazmanianLab/joeB/software/mambaforge/envs/geodock/lib/python3.10/site-packages (from torch>=2.0.1->geodock) (12.1.0.106)\n",
      "Requirement already satisfied: nvidia-nccl-cu12==2.18.1 in /central/groups/MazmanianLab/joeB/software/mambaforge/envs/geodock/lib/python3.10/site-packages (from torch>=2.0.1->geodock) (2.18.1)\n",
      "Requirement already satisfied: nvidia-nvtx-cu12==12.1.105 in /central/groups/MazmanianLab/joeB/software/mambaforge/envs/geodock/lib/python3.10/site-packages (from torch>=2.0.1->geodock) (12.1.105)\n",
      "Requirement already satisfied: triton==2.1.0 in /central/groups/MazmanianLab/joeB/software/mambaforge/envs/geodock/lib/python3.10/site-packages (from torch>=2.0.1->geodock) (2.1.0)\n",
      "Requirement already satisfied: nvidia-nvjitlink-cu12 in /central/groups/MazmanianLab/joeB/software/mambaforge/envs/geodock/lib/python3.10/site-packages (from nvidia-cusolver-cu12==11.4.5.107->torch>=2.0.1->geodock) (12.3.52)\n",
      "Requirement already satisfied: aiohttp!=4.0.0a0,!=4.0.0a1 in /central/groups/MazmanianLab/joeB/software/mambaforge/envs/geodock/lib/python3.10/site-packages (from fsspec[http]>2021.06.0->pytorch-lightning>=1.8.6->geodock) (3.8.6)\n",
      "Requirement already satisfied: charset-normalizer<4,>=2 in /central/groups/MazmanianLab/joeB/software/mambaforge/envs/geodock/lib/python3.10/site-packages (from requests>=2.12->biotite>=0.37.0->geodock) (3.3.2)\n",
      "Requirement already satisfied: idna<4,>=2.5 in /central/groups/MazmanianLab/joeB/software/mambaforge/envs/geodock/lib/python3.10/site-packages (from requests>=2.12->biotite>=0.37.0->geodock) (3.4)\n",
      "Requirement already satisfied: urllib3<3,>=1.21.1 in /central/groups/MazmanianLab/joeB/software/mambaforge/envs/geodock/lib/python3.10/site-packages (from requests>=2.12->biotite>=0.37.0->geodock) (2.0.7)\n",
      "Requirement already satisfied: certifi>=2017.4.17 in /central/groups/MazmanianLab/joeB/software/mambaforge/envs/geodock/lib/python3.10/site-packages (from requests>=2.12->biotite>=0.37.0->geodock) (2023.7.22)\n",
      "Requirement already satisfied: MarkupSafe>=2.0 in /central/groups/MazmanianLab/joeB/software/mambaforge/envs/geodock/lib/python3.10/site-packages (from jinja2->torch>=2.0.1->geodock) (2.1.3)\n",
      "Requirement already satisfied: mpmath>=0.19 in /central/groups/MazmanianLab/joeB/software/mambaforge/envs/geodock/lib/python3.10/site-packages (from sympy->torch>=2.0.1->geodock) (1.3.0)\n",
      "Requirement already satisfied: attrs>=17.3.0 in /central/groups/MazmanianLab/joeB/software/mambaforge/envs/geodock/lib/python3.10/site-packages (from aiohttp!=4.0.0a0,!=4.0.0a1->fsspec[http]>2021.06.0->pytorch-lightning>=1.8.6->geodock) (23.1.0)\n",
      "Requirement already satisfied: multidict<7.0,>=4.5 in /central/groups/MazmanianLab/joeB/software/mambaforge/envs/geodock/lib/python3.10/site-packages (from aiohttp!=4.0.0a0,!=4.0.0a1->fsspec[http]>2021.06.0->pytorch-lightning>=1.8.6->geodock) (6.0.4)\n",
      "Requirement already satisfied: async-timeout<5.0,>=4.0.0a3 in /central/groups/MazmanianLab/joeB/software/mambaforge/envs/geodock/lib/python3.10/site-packages (from aiohttp!=4.0.0a0,!=4.0.0a1->fsspec[http]>2021.06.0->pytorch-lightning>=1.8.6->geodock) (4.0.3)\n",
      "Requirement already satisfied: yarl<2.0,>=1.0 in /central/groups/MazmanianLab/joeB/software/mambaforge/envs/geodock/lib/python3.10/site-packages (from aiohttp!=4.0.0a0,!=4.0.0a1->fsspec[http]>2021.06.0->pytorch-lightning>=1.8.6->geodock) (1.9.2)\n",
      "Requirement already satisfied: frozenlist>=1.1.1 in /central/groups/MazmanianLab/joeB/software/mambaforge/envs/geodock/lib/python3.10/site-packages (from aiohttp!=4.0.0a0,!=4.0.0a1->fsspec[http]>2021.06.0->pytorch-lightning>=1.8.6->geodock) (1.4.0)\n",
      "Requirement already satisfied: aiosignal>=1.1.2 in /central/groups/MazmanianLab/joeB/software/mambaforge/envs/geodock/lib/python3.10/site-packages (from aiohttp!=4.0.0a0,!=4.0.0a1->fsspec[http]>2021.06.0->pytorch-lightning>=1.8.6->geodock) (1.3.1)\n",
      "Requirement already satisfied: torch-geometric in /central/groups/MazmanianLab/joeB/software/mambaforge/envs/geodock/lib/python3.10/site-packages (2.4.0)\n",
      "Requirement already satisfied: tqdm in /central/groups/MazmanianLab/joeB/software/mambaforge/envs/geodock/lib/python3.10/site-packages (from torch-geometric) (4.66.1)\n",
      "Requirement already satisfied: numpy in /central/groups/MazmanianLab/joeB/software/mambaforge/envs/geodock/lib/python3.10/site-packages (from torch-geometric) (1.26.1)\n",
      "Requirement already satisfied: scipy in /central/groups/MazmanianLab/joeB/software/mambaforge/envs/geodock/lib/python3.10/site-packages (from torch-geometric) (1.11.3)\n",
      "Requirement already satisfied: jinja2 in /central/groups/MazmanianLab/joeB/software/mambaforge/envs/geodock/lib/python3.10/site-packages (from torch-geometric) (3.1.2)\n",
      "Requirement already satisfied: requests in /central/groups/MazmanianLab/joeB/software/mambaforge/envs/geodock/lib/python3.10/site-packages (from torch-geometric) (2.31.0)\n",
      "Requirement already satisfied: pyparsing in /central/groups/MazmanianLab/joeB/software/mambaforge/envs/geodock/lib/python3.10/site-packages (from torch-geometric) (3.1.1)\n",
      "Requirement already satisfied: scikit-learn in /central/groups/MazmanianLab/joeB/software/mambaforge/envs/geodock/lib/python3.10/site-packages (from torch-geometric) (1.3.2)\n",
      "Requirement already satisfied: psutil>=5.8.0 in /central/home/jboktor/.local/lib/python3.10/site-packages (from torch-geometric) (5.9.5)\n",
      "Requirement already satisfied: MarkupSafe>=2.0 in /central/groups/MazmanianLab/joeB/software/mambaforge/envs/geodock/lib/python3.10/site-packages (from jinja2->torch-geometric) (2.1.3)\n",
      "Requirement already satisfied: charset-normalizer<4,>=2 in /central/groups/MazmanianLab/joeB/software/mambaforge/envs/geodock/lib/python3.10/site-packages (from requests->torch-geometric) (3.3.2)\n",
      "Requirement already satisfied: idna<4,>=2.5 in /central/groups/MazmanianLab/joeB/software/mambaforge/envs/geodock/lib/python3.10/site-packages (from requests->torch-geometric) (3.4)\n",
      "Requirement already satisfied: urllib3<3,>=1.21.1 in /central/groups/MazmanianLab/joeB/software/mambaforge/envs/geodock/lib/python3.10/site-packages (from requests->torch-geometric) (2.0.7)\n",
      "Requirement already satisfied: certifi>=2017.4.17 in /central/groups/MazmanianLab/joeB/software/mambaforge/envs/geodock/lib/python3.10/site-packages (from requests->torch-geometric) (2023.7.22)\n",
      "Requirement already satisfied: joblib>=1.1.1 in /central/groups/MazmanianLab/joeB/software/mambaforge/envs/geodock/lib/python3.10/site-packages (from scikit-learn->torch-geometric) (1.3.2)\n",
      "Requirement already satisfied: threadpoolctl>=2.0.0 in /central/groups/MazmanianLab/joeB/software/mambaforge/envs/geodock/lib/python3.10/site-packages (from scikit-learn->torch-geometric) (3.2.0)\n",
      "Looking in links: https://pytorch-geometric.com/whl/torch-2.1.0+cu121.html\n",
      "Collecting torch-scatter\n",
      "  Downloading https://data.pyg.org/whl/torch-2.1.0%2Bcu121/torch_scatter-2.1.2%2Bpt21cu121-cp310-cp310-linux_x86_64.whl (10.8 MB)\n",
      "\u001b[2K     \u001b[90m━━━━━━━━━━━━━━━━━━━━━━━━━━━━━━━━━━━━━━━━\u001b[0m \u001b[32m10.8/10.8 MB\u001b[0m \u001b[31m48.1 MB/s\u001b[0m eta \u001b[36m0:00:00\u001b[0m00:01\u001b[0m00:01\u001b[0m\n",
      "\u001b[?25hInstalling collected packages: torch-scatter\n",
      "Successfully installed torch-scatter-2.1.2+pt21cu121\n",
      "Looking in links: https://pytorch-geometric.com/whl/torch-2.1.0+cu121.html\n",
      "Collecting torch-sparse\n",
      "  Downloading https://data.pyg.org/whl/torch-2.1.0%2Bcu121/torch_sparse-0.6.18%2Bpt21cu121-cp310-cp310-linux_x86_64.whl (5.0 MB)\n",
      "\u001b[2K     \u001b[90m━━━━━━━━━━━━━━━━━━━━━━━━━━━━━━━━━━━━━━━━\u001b[0m \u001b[32m5.0/5.0 MB\u001b[0m \u001b[31m22.8 MB/s\u001b[0m eta \u001b[36m0:00:00\u001b[0m00:01\u001b[0m00:01\u001b[0m\n",
      "\u001b[?25hRequirement already satisfied: scipy in /central/groups/MazmanianLab/joeB/software/mambaforge/envs/geodock/lib/python3.10/site-packages (from torch-sparse) (1.11.3)\n",
      "Requirement already satisfied: numpy<1.28.0,>=1.21.6 in /central/groups/MazmanianLab/joeB/software/mambaforge/envs/geodock/lib/python3.10/site-packages (from scipy->torch-sparse) (1.26.1)\n",
      "Installing collected packages: torch-sparse\n",
      "Successfully installed torch-sparse-0.6.18+pt21cu121\n",
      "Looking in links: https://pytorch-geometric.com/whl/torch-2.1.0+cu121.html\n",
      "Collecting torch-cluster\n",
      "  Downloading https://data.pyg.org/whl/torch-2.1.0%2Bcu121/torch_cluster-1.6.3%2Bpt21cu121-cp310-cp310-linux_x86_64.whl (3.3 MB)\n",
      "\u001b[2K     \u001b[90m━━━━━━━━━━━━━━━━━━━━━━━━━━━━━━━━━━━━━━━━\u001b[0m \u001b[32m3.3/3.3 MB\u001b[0m \u001b[31m23.1 MB/s\u001b[0m eta \u001b[36m0:00:00\u001b[0m00:01\u001b[0m00:01\u001b[0m\n",
      "\u001b[?25hRequirement already satisfied: scipy in /central/groups/MazmanianLab/joeB/software/mambaforge/envs/geodock/lib/python3.10/site-packages (from torch-cluster) (1.11.3)\n",
      "Requirement already satisfied: numpy<1.28.0,>=1.21.6 in /central/groups/MazmanianLab/joeB/software/mambaforge/envs/geodock/lib/python3.10/site-packages (from scipy->torch-cluster) (1.26.1)\n",
      "Installing collected packages: torch-cluster\n",
      "Successfully installed torch-cluster-1.6.3+pt21cu121\n",
      "Looking in links: https://pytorch-geometric.com/whl/torch-2.1.0+cu121.html\n",
      "Collecting torch-spline-conv\n",
      "  Downloading https://data.pyg.org/whl/torch-2.1.0%2Bcu121/torch_spline_conv-1.2.2%2Bpt21cu121-cp310-cp310-linux_x86_64.whl (932 kB)\n",
      "\u001b[2K     \u001b[90m━━━━━━━━━━━━━━━━━━━━━━━━━━━━━━━━━━━━━━━\u001b[0m \u001b[32m932.1/932.1 kB\u001b[0m \u001b[31m8.7 MB/s\u001b[0m eta \u001b[36m0:00:00\u001b[0m00:01\u001b[0m\n",
      "\u001b[?25hInstalling collected packages: torch-spline-conv\n",
      "Successfully installed torch-spline-conv-1.2.2+pt21cu121\n",
      "Collecting py3Dmol\n",
      "  Downloading py3Dmol-2.0.4-py2.py3-none-any.whl.metadata (2.1 kB)\n",
      "Downloading py3Dmol-2.0.4-py2.py3-none-any.whl (12 kB)\n",
      "Installing collected packages: py3Dmol\n",
      "Successfully installed py3Dmol-2.0.4\n",
      "Cloning into 'GeoDock'...\n",
      "remote: Enumerating objects: 526, done.\u001b[K\n",
      "remote: Counting objects: 100% (16/16), done.\u001b[K\n",
      "remote: Compressing objects: 100% (11/11), done.\u001b[K\n",
      "remote: Total 526 (delta 6), reused 8 (delta 4), pack-reused 510\u001b[K\n",
      "Receiving objects: 100% (526/526), 397.64 MiB | 27.41 MiB/s, done.\n",
      "Resolving deltas: 100% (242/242), done.\n"
     ]
    }
   ],
   "source": [
    "# Install dependencies (~1 min)\n",
    "\n",
    "pyt_version_str=torch.__version__.split(\"+\")[0].replace(\".\", \"\")\n",
    "version_str=\"\".join([\n",
    "    f\"py3{sys.version_info.minor}_cu\",\n",
    "    torch.version.cuda.replace(\".\",\"\"),\n",
    "    f\"_pyt{pyt_version_str}\"\n",
    "])\n",
    "\n",
    "def format_pytorch_version(version):\n",
    "  return version.split('+')[0]\n",
    "\n",
    "TORCH_version = torch.__version__\n",
    "TORCH = format_pytorch_version(TORCH_version)\n",
    "\n",
    "def format_cuda_version(version):\n",
    "  return 'cu' + version.replace('.', '')\n",
    "\n",
    "CUDA_version = torch.version.cuda\n",
    "CUDA = format_cuda_version(CUDA_version)\n",
    "\n",
    "!pip install geodock\n",
    "!pip install torch-geometric\n",
    "!pip install torch-scatter     -f https://pytorch-geometric.com/whl/torch-{TORCH}+{CUDA}.html\n",
    "!pip install torch-sparse      -f https://pytorch-geometric.com/whl/torch-{TORCH}+{CUDA}.html\n",
    "!pip install torch-cluster     -f https://pytorch-geometric.com/whl/torch-{TORCH}+{CUDA}.html\n",
    "!pip install torch-spline-conv -f https://pytorch-geometric.com/whl/torch-{TORCH}+{CUDA}.html\n",
    "!pip install py3Dmol\n",
    "\n",
    "# download model weights\n",
    "\n",
    "!cd /central/groups/MazmanianLab/joeB/docking && git clone https://github.com/Graylab/GeoDock.git"
   ]
  },
  {
   "cell_type": "code",
   "execution_count": 3,
   "metadata": {},
   "outputs": [],
   "source": [
    "from geodock.GeoDockRunner import GeoDockRunner\n",
    "torch.cuda.empty_cache()\n",
    "ckpt_file = \"/central/groups/MazmanianLab/joeB/docking/GeoDock/geodock/weights/dips_0.3.ckpt\"\n",
    "geodock = GeoDockRunner(ckpt_file=ckpt_file)"
   ]
  },
  {
   "cell_type": "code",
   "execution_count": null,
   "metadata": {},
   "outputs": [],
   "source": [
    "input_path = \"/central/groups/MazmanianLab/joeB/Microbiota-Immunomodulation/Microbiota-Immunomodulation/data/interim/scratch\"\n",
    "pred = geodock.dock(\n",
    "    partner1=os.path.join(input_path, \"CD28_AF-P10747-F1-model_v4.pdb\"),\n",
    "    partner2=os.path.join(input_path, \"CD80_AF-P33681-F1-model_v4.pdb\"),\n",
    "    out_name=\"CD28-CD80_GeoDock\",\n",
    "    do_refine=False,\n",
    "    use_openmm=True,\n",
    ")"
   ]
  },
  {
   "cell_type": "code",
   "execution_count": 8,
   "metadata": {},
   "outputs": [
    {
     "name": "stdout",
     "output_type": "stream",
     "text": [
      "\u001b[0;31mInit signature:\u001b[0m \u001b[0mGeoDockRunner\u001b[0m\u001b[0;34m(\u001b[0m\u001b[0mckpt_file\u001b[0m\u001b[0;34m)\u001b[0m\u001b[0;34m\u001b[0m\u001b[0;34m\u001b[0m\u001b[0m\n",
      "\u001b[0;31mDocstring:\u001b[0m      Wrapper for GeoDock model predictions.\n",
      "\u001b[0;31mFile:\u001b[0m           /central/groups/MazmanianLab/joeB/software/mambaforge/envs/geodock/lib/python3.10/site-packages/geodock/GeoDockRunner.py\n",
      "\u001b[0;31mType:\u001b[0m           type\n",
      "\u001b[0;31mSubclasses:\u001b[0m     "
     ]
    }
   ],
   "source": [
    "from geodock.GeoDockRunner import GeoDockRunner\n",
    "\n",
    "?GeoDockRunner"
   ]
  },
  {
   "cell_type": "code",
   "execution_count": null,
   "metadata": {},
   "outputs": [
    {
     "data": {
      "text/plain": [
       "'2.1.0'"
      ]
     },
     "execution_count": 9,
     "metadata": {},
     "output_type": "execute_result"
    }
   ],
   "source": [
    "!nvidia-smi"
   ]
  },
  {
   "cell_type": "code",
   "execution_count": null,
   "metadata": {},
   "outputs": [],
   "source": [
    "# srun --mem=40G --time=01:00:00 --gres=gpu:1 --pty bash -i\n"
   ]
  },
  {
   "cell_type": "code",
   "execution_count": 25,
   "metadata": {},
   "outputs": [
    {
     "ename": "ImportError",
     "evalue": "/central/groups/MazmanianLab/joeB/software/mambaforge/envs/geodock/lib/python3.10/site-packages/zmq/backend/cython/../../../../.././libstdc++.so.6: version `GLIBCXX_3.4.30' not found (required by /central/groups/MazmanianLab/joeB/software/mambaforge/envs/geodock/lib/python3.10/site-packages/openmm/../../../libOpenMM.so.8.0)",
     "output_type": "error",
     "traceback": [
      "\u001b[0;31m---------------------------------------------------------------------------\u001b[0m",
      "\u001b[0;31mImportError\u001b[0m                               Traceback (most recent call last)",
      "\u001b[0;32m/tmp/ipykernel_224435/2950197700.py\u001b[0m in \u001b[0;36m?\u001b[0;34m()\u001b[0m\n\u001b[1;32m      1\u001b[0m \u001b[0;32mif\u001b[0m \u001b[0mre\u001b[0m\u001b[0;34m.\u001b[0m\u001b[0msearch\u001b[0m\u001b[0;34m(\u001b[0m\u001b[0;34m'geodock/lib'\u001b[0m\u001b[0;34m,\u001b[0m \u001b[0mos\u001b[0m\u001b[0;34m.\u001b[0m\u001b[0menviron\u001b[0m\u001b[0;34m[\u001b[0m\u001b[0;34m'LD_LIBRARY_PATH'\u001b[0m\u001b[0;34m]\u001b[0m\u001b[0;34m)\u001b[0m \u001b[0;34m==\u001b[0m \u001b[0;32mNone\u001b[0m\u001b[0;34m:\u001b[0m\u001b[0;34m\u001b[0m\u001b[0;34m\u001b[0m\u001b[0m\n\u001b[1;32m      2\u001b[0m     \u001b[0mos\u001b[0m\u001b[0;34m.\u001b[0m\u001b[0menviron\u001b[0m\u001b[0;34m[\u001b[0m\u001b[0;34m'LD_LIBRARY_PATH'\u001b[0m\u001b[0;34m]\u001b[0m \u001b[0;34m=\u001b[0m \u001b[0mos\u001b[0m\u001b[0;34m.\u001b[0m\u001b[0menviron\u001b[0m\u001b[0;34m[\u001b[0m\u001b[0;34m'CONDA_PREFIX'\u001b[0m\u001b[0;34m]\u001b[0m \u001b[0;34m+\u001b[0m \u001b[0;34m\"/lib:\"\u001b[0m \u001b[0;34m+\u001b[0m \u001b[0mos\u001b[0m\u001b[0;34m.\u001b[0m\u001b[0menviron\u001b[0m\u001b[0;34m[\u001b[0m\u001b[0;34m'LD_LIBRARY_PATH'\u001b[0m\u001b[0;34m]\u001b[0m\u001b[0;34m\u001b[0m\u001b[0;34m\u001b[0m\u001b[0m\n\u001b[1;32m      3\u001b[0m \u001b[0;34m\u001b[0m\u001b[0m\n\u001b[0;32m----> 4\u001b[0;31m \u001b[0;32mimport\u001b[0m \u001b[0mopenmm\u001b[0m \u001b[0;32mas\u001b[0m \u001b[0mmm\u001b[0m\u001b[0;34m\u001b[0m\u001b[0;34m\u001b[0m\u001b[0m\n\u001b[0m",
      "\u001b[0;32m/central/groups/MazmanianLab/joeB/software/mambaforge/envs/geodock/lib/python3.10/site-packages/openmm/__init__.py\u001b[0m in \u001b[0;36m?\u001b[0;34m()\u001b[0m\n\u001b[1;32m     20\u001b[0m             \u001b[0;32mfrom\u001b[0m \u001b[0;34m.\u001b[0m \u001b[0;32mimport\u001b[0m \u001b[0m_openmm\u001b[0m\u001b[0;34m\u001b[0m\u001b[0;34m\u001b[0m\u001b[0m\n\u001b[1;32m     21\u001b[0m     \u001b[0;32mexcept\u001b[0m\u001b[0;34m:\u001b[0m\u001b[0;34m\u001b[0m\u001b[0;34m\u001b[0m\u001b[0m\n\u001b[1;32m     22\u001b[0m         \u001b[0;32mpass\u001b[0m\u001b[0;34m\u001b[0m\u001b[0;34m\u001b[0m\u001b[0m\n\u001b[1;32m     23\u001b[0m \u001b[0;34m\u001b[0m\u001b[0m\n\u001b[0;32m---> 24\u001b[0;31m \u001b[0;32mfrom\u001b[0m \u001b[0mopenmm\u001b[0m\u001b[0;34m.\u001b[0m\u001b[0mopenmm\u001b[0m \u001b[0;32mimport\u001b[0m \u001b[0;34m*\u001b[0m\u001b[0;34m\u001b[0m\u001b[0;34m\u001b[0m\u001b[0m\n\u001b[0m\u001b[1;32m     25\u001b[0m \u001b[0;32mfrom\u001b[0m \u001b[0mopenmm\u001b[0m\u001b[0;34m.\u001b[0m\u001b[0mvec3\u001b[0m \u001b[0;32mimport\u001b[0m \u001b[0mVec3\u001b[0m\u001b[0;34m\u001b[0m\u001b[0;34m\u001b[0m\u001b[0m\n\u001b[1;32m     26\u001b[0m \u001b[0;32mfrom\u001b[0m \u001b[0mopenmm\u001b[0m\u001b[0;34m.\u001b[0m\u001b[0mmtsintegrator\u001b[0m \u001b[0;32mimport\u001b[0m \u001b[0mMTSIntegrator\u001b[0m\u001b[0;34m,\u001b[0m \u001b[0mMTSLangevinIntegrator\u001b[0m\u001b[0;34m\u001b[0m\u001b[0;34m\u001b[0m\u001b[0m\n\u001b[1;32m     27\u001b[0m \u001b[0;32mfrom\u001b[0m \u001b[0mopenmm\u001b[0m\u001b[0;34m.\u001b[0m\u001b[0mamd\u001b[0m \u001b[0;32mimport\u001b[0m \u001b[0mAMDIntegrator\u001b[0m\u001b[0;34m,\u001b[0m \u001b[0mAMDForceGroupIntegrator\u001b[0m\u001b[0;34m,\u001b[0m \u001b[0mDualAMDIntegrator\u001b[0m\u001b[0;34m\u001b[0m\u001b[0;34m\u001b[0m\u001b[0m\n",
      "\u001b[0;32m/central/groups/MazmanianLab/joeB/software/mambaforge/envs/geodock/lib/python3.10/site-packages/openmm/openmm.py\u001b[0m in \u001b[0;36m?\u001b[0;34m()\u001b[0m\n\u001b[1;32m      6\u001b[0m \u001b[0;34m\u001b[0m\u001b[0m\n\u001b[1;32m      7\u001b[0m \u001b[0;32mfrom\u001b[0m \u001b[0msys\u001b[0m \u001b[0;32mimport\u001b[0m \u001b[0mversion_info\u001b[0m \u001b[0;32mas\u001b[0m \u001b[0m_swig_python_version_info\u001b[0m\u001b[0;34m\u001b[0m\u001b[0;34m\u001b[0m\u001b[0m\n\u001b[1;32m      8\u001b[0m \u001b[0;31m# Import the low-level C/C++ module\u001b[0m\u001b[0;34m\u001b[0m\u001b[0;34m\u001b[0m\u001b[0m\n\u001b[1;32m      9\u001b[0m \u001b[0;32mif\u001b[0m \u001b[0m__package__\u001b[0m \u001b[0;32mor\u001b[0m \u001b[0;34m\".\"\u001b[0m \u001b[0;32min\u001b[0m \u001b[0m__name__\u001b[0m\u001b[0;34m:\u001b[0m\u001b[0;34m\u001b[0m\u001b[0;34m\u001b[0m\u001b[0m\n\u001b[0;32m---> 10\u001b[0;31m     \u001b[0;32mfrom\u001b[0m \u001b[0;34m.\u001b[0m \u001b[0;32mimport\u001b[0m \u001b[0m_openmm\u001b[0m\u001b[0;34m\u001b[0m\u001b[0;34m\u001b[0m\u001b[0m\n\u001b[0m\u001b[1;32m     11\u001b[0m \u001b[0;32melse\u001b[0m\u001b[0;34m:\u001b[0m\u001b[0;34m\u001b[0m\u001b[0;34m\u001b[0m\u001b[0m\n\u001b[1;32m     12\u001b[0m     \u001b[0;32mimport\u001b[0m \u001b[0m_openmm\u001b[0m\u001b[0;34m\u001b[0m\u001b[0;34m\u001b[0m\u001b[0m\n\u001b[1;32m     13\u001b[0m \u001b[0;34m\u001b[0m\u001b[0m\n",
      "\u001b[0;31mImportError\u001b[0m: /central/groups/MazmanianLab/joeB/software/mambaforge/envs/geodock/lib/python3.10/site-packages/zmq/backend/cython/../../../../.././libstdc++.so.6: version `GLIBCXX_3.4.30' not found (required by /central/groups/MazmanianLab/joeB/software/mambaforge/envs/geodock/lib/python3.10/site-packages/openmm/../../../libOpenMM.so.8.0)"
     ]
    }
   ],
   "source": [
    "if re.search('geodock/lib', os.environ['LD_LIBRARY_PATH']) == None:\n",
    "    os.environ['LD_LIBRARY_PATH'] = os.environ['CONDA_PREFIX'] + \"/lib:\" + os.environ['LD_LIBRARY_PATH']\n",
    "\n",
    "import openmm as mm"
   ]
  },
  {
   "cell_type": "code",
   "execution_count": 24,
   "metadata": {},
   "outputs": [],
   "source": []
  },
  {
   "cell_type": "code",
   "execution_count": 20,
   "metadata": {},
   "outputs": [
    {
     "name": "stdout",
     "output_type": "stream",
     "text": [
      "None\n"
     ]
    }
   ],
   "source": [
    "\n"
   ]
  },
  {
   "cell_type": "code",
   "execution_count": 23,
   "metadata": {},
   "outputs": [
    {
     "name": "stdout",
     "output_type": "stream",
     "text": [
      "NE\n"
     ]
    }
   ],
   "source": [
    "if re.search('geodock/lib', os.environ['LD_LIBRARY_PATH']) == None:\n",
    "    os.environ['LD_LIBRARY_PATH'] = os.environ['CONDA_PREFIX'] + \"/lib:\" + os.environ['LD_LIBRARY_PATH']"
   ]
  },
  {
   "cell_type": "code",
   "execution_count": 2,
   "metadata": {},
   "outputs": [
    {
     "name": "stdout",
     "output_type": "stream",
     "text": [
      "Completed embedding in 2.04 seconds.\n",
      "File './CD28-CD80_GeoDock.pdb' deleted successfully.\n",
      "Completed docking in 17.46 seconds.\n"
     ]
    },
    {
     "ename": "NameError",
     "evalue": "name 'exit' is not defined",
     "output_type": "error",
     "traceback": [
      "\u001b[0;31m---------------------------------------------------------------------------\u001b[0m",
      "\u001b[0;31mImportError\u001b[0m                               Traceback (most recent call last)",
      "\u001b[0;32m/central/groups/MazmanianLab/joeB/software/mambaforge/envs/geodock/lib/python3.10/site-packages/geodock/utils/docking.py\u001b[0m in \u001b[0;36m?\u001b[0;34m(out_name, seq1, seq2, model_in, model, do_refine, use_openmm)\u001b[0m\n\u001b[1;32m     72\u001b[0m                 \u001b[0mrefine_input\u001b[0m \u001b[0;34m=\u001b[0m \u001b[0;34m[\u001b[0m\u001b[0mout_pdb\u001b[0m\u001b[0;34m]\u001b[0m\u001b[0;34m\u001b[0m\u001b[0;34m\u001b[0m\u001b[0m\n\u001b[1;32m     73\u001b[0m             \u001b[0;32mexcept\u001b[0m\u001b[0;34m:\u001b[0m\u001b[0;34m\u001b[0m\u001b[0;34m\u001b[0m\u001b[0m\n\u001b[0;32m---> 74\u001b[0;31m                 \u001b[0mexit\u001b[0m\u001b[0;34m(\u001b[0m\u001b[0;34m\"OpenMM not installed. Please install OpenMM to use refinement.\"\u001b[0m\u001b[0;34m)\u001b[0m\u001b[0;34m\u001b[0m\u001b[0;34m\u001b[0m\u001b[0m\n\u001b[0m\u001b[1;32m     75\u001b[0m         \u001b[0;32melse\u001b[0m\u001b[0;34m:\u001b[0m\u001b[0;34m\u001b[0m\u001b[0;34m\u001b[0m\u001b[0m\n",
      "\u001b[0;32m/central/groups/MazmanianLab/joeB/software/mambaforge/envs/geodock/lib/python3.10/site-packages/geodock/refine/openmm_ref.py\u001b[0m in \u001b[0;36m?\u001b[0;34m()\u001b[0m\n\u001b[0;32m----> 1\u001b[0;31m \u001b[0;32mimport\u001b[0m \u001b[0mpdbfixer\u001b[0m\u001b[0;34m\u001b[0m\u001b[0;34m\u001b[0m\u001b[0m\n\u001b[0m\u001b[1;32m      2\u001b[0m \u001b[0;32mimport\u001b[0m \u001b[0mopenmm\u001b[0m\u001b[0;34m\u001b[0m\u001b[0;34m\u001b[0m\u001b[0m\n",
      "\u001b[0;32m/central/groups/MazmanianLab/joeB/software/mambaforge/envs/geodock/lib/python3.10/site-packages/pdbfixer/__init__.py\u001b[0m in \u001b[0;36m?\u001b[0;34m()\u001b[0m\n\u001b[1;32m      1\u001b[0m \u001b[0;32mfrom\u001b[0m \u001b[0m__future__\u001b[0m \u001b[0;32mimport\u001b[0m \u001b[0mabsolute_import\u001b[0m\u001b[0;34m\u001b[0m\u001b[0;34m\u001b[0m\u001b[0m\n\u001b[0;32m----> 2\u001b[0;31m \u001b[0;32mfrom\u001b[0m \u001b[0;34m.\u001b[0m\u001b[0mpdbfixer\u001b[0m \u001b[0;32mimport\u001b[0m \u001b[0mPDBFixer\u001b[0m\u001b[0;34m\u001b[0m\u001b[0;34m\u001b[0m\u001b[0m\n\u001b[0m\u001b[1;32m      3\u001b[0m \u001b[0;34m\u001b[0m\u001b[0m\n",
      "\u001b[0;32m/central/groups/MazmanianLab/joeB/software/mambaforge/envs/geodock/lib/python3.10/site-packages/pdbfixer/pdbfixer.py\u001b[0m in \u001b[0;36m?\u001b[0;34m()\u001b[0m\n\u001b[1;32m     33\u001b[0m \u001b[0m__version__\u001b[0m \u001b[0;34m=\u001b[0m \u001b[0;34m\"1.7\"\u001b[0m\u001b[0;34m\u001b[0m\u001b[0;34m\u001b[0m\u001b[0m\n\u001b[1;32m     34\u001b[0m \u001b[0;34m\u001b[0m\u001b[0m\n\u001b[0;32m---> 35\u001b[0;31m \u001b[0;32mimport\u001b[0m \u001b[0mopenmm\u001b[0m \u001b[0;32mas\u001b[0m \u001b[0mmm\u001b[0m\u001b[0;34m\u001b[0m\u001b[0;34m\u001b[0m\u001b[0m\n\u001b[0m\u001b[1;32m     36\u001b[0m \u001b[0;32mimport\u001b[0m \u001b[0mopenmm\u001b[0m\u001b[0;34m.\u001b[0m\u001b[0mapp\u001b[0m \u001b[0;32mas\u001b[0m \u001b[0mapp\u001b[0m\u001b[0;34m\u001b[0m\u001b[0;34m\u001b[0m\u001b[0m\n",
      "\u001b[0;32m/central/groups/MazmanianLab/joeB/software/mambaforge/envs/geodock/lib/python3.10/site-packages/openmm/__init__.py\u001b[0m in \u001b[0;36m?\u001b[0;34m()\u001b[0m\n\u001b[1;32m     22\u001b[0m         \u001b[0;32mpass\u001b[0m\u001b[0;34m\u001b[0m\u001b[0;34m\u001b[0m\u001b[0m\n\u001b[1;32m     23\u001b[0m \u001b[0;34m\u001b[0m\u001b[0m\n\u001b[0;32m---> 24\u001b[0;31m \u001b[0;32mfrom\u001b[0m \u001b[0mopenmm\u001b[0m\u001b[0;34m.\u001b[0m\u001b[0mopenmm\u001b[0m \u001b[0;32mimport\u001b[0m \u001b[0;34m*\u001b[0m\u001b[0;34m\u001b[0m\u001b[0;34m\u001b[0m\u001b[0m\n\u001b[0m\u001b[1;32m     25\u001b[0m \u001b[0;32mfrom\u001b[0m \u001b[0mopenmm\u001b[0m\u001b[0;34m.\u001b[0m\u001b[0mvec3\u001b[0m \u001b[0;32mimport\u001b[0m \u001b[0mVec3\u001b[0m\u001b[0;34m\u001b[0m\u001b[0;34m\u001b[0m\u001b[0m\n",
      "\u001b[0;32m/central/groups/MazmanianLab/joeB/software/mambaforge/envs/geodock/lib/python3.10/site-packages/openmm/openmm.py\u001b[0m in \u001b[0;36m?\u001b[0;34m()\u001b[0m\n\u001b[1;32m      8\u001b[0m \u001b[0;31m# Import the low-level C/C++ module\u001b[0m\u001b[0;34m\u001b[0m\u001b[0;34m\u001b[0m\u001b[0m\n\u001b[1;32m      9\u001b[0m \u001b[0;32mif\u001b[0m \u001b[0m__package__\u001b[0m \u001b[0;32mor\u001b[0m \u001b[0;34m\".\"\u001b[0m \u001b[0;32min\u001b[0m \u001b[0m__name__\u001b[0m\u001b[0;34m:\u001b[0m\u001b[0;34m\u001b[0m\u001b[0;34m\u001b[0m\u001b[0m\n\u001b[0;32m---> 10\u001b[0;31m     \u001b[0;32mfrom\u001b[0m \u001b[0;34m.\u001b[0m \u001b[0;32mimport\u001b[0m \u001b[0m_openmm\u001b[0m\u001b[0;34m\u001b[0m\u001b[0;34m\u001b[0m\u001b[0m\n\u001b[0m\u001b[1;32m     11\u001b[0m \u001b[0;32melse\u001b[0m\u001b[0;34m:\u001b[0m\u001b[0;34m\u001b[0m\u001b[0;34m\u001b[0m\u001b[0m\n",
      "\u001b[0;31mImportError\u001b[0m: /central/groups/MazmanianLab/joeB/software/mambaforge/envs/geodock/lib/python3.10/site-packages/zmq/backend/cython/../../../../.././libstdc++.so.6: version `GLIBCXX_3.4.30' not found (required by /central/groups/MazmanianLab/joeB/software/mambaforge/envs/geodock/lib/python3.10/site-packages/openmm/../../../libOpenMM.so.8.0)",
      "\nDuring handling of the above exception, another exception occurred:\n",
      "\u001b[0;31mNameError\u001b[0m                                 Traceback (most recent call last)",
      "\u001b[1;32m/central/groups/MazmanianLab/joeB/Microbiota-Immunomodulation/Microbiota-Immunomodulation/notebooks/.ipynb_checkpoints/geodock_test.ipynb Cell 9\u001b[0m line \u001b[0;36m1\n\u001b[1;32m      <a href='vscode-notebook-cell://ssh-remote%2Bhpcx/central/groups/MazmanianLab/joeB/Microbiota-Immunomodulation/Microbiota-Immunomodulation/notebooks/.ipynb_checkpoints/geodock_test.ipynb#X11sdnNjb2RlLXJlbW90ZQ%3D%3D?line=8'>9</a>\u001b[0m geodock \u001b[39m=\u001b[39m GeoDockRunner(ckpt_file\u001b[39m=\u001b[39mckpt_file)\n\u001b[1;32m     <a href='vscode-notebook-cell://ssh-remote%2Bhpcx/central/groups/MazmanianLab/joeB/Microbiota-Immunomodulation/Microbiota-Immunomodulation/notebooks/.ipynb_checkpoints/geodock_test.ipynb#X11sdnNjb2RlLXJlbW90ZQ%3D%3D?line=10'>11</a>\u001b[0m input_path \u001b[39m=\u001b[39m \u001b[39m\"\u001b[39m\u001b[39m/central/groups/MazmanianLab/joeB/Microbiota-Immunomodulation/Microbiota-Immunomodulation/data/interim/scratch\u001b[39m\u001b[39m\"\u001b[39m\n\u001b[0;32m---> <a href='vscode-notebook-cell://ssh-remote%2Bhpcx/central/groups/MazmanianLab/joeB/Microbiota-Immunomodulation/Microbiota-Immunomodulation/notebooks/.ipynb_checkpoints/geodock_test.ipynb#X11sdnNjb2RlLXJlbW90ZQ%3D%3D?line=11'>12</a>\u001b[0m pred \u001b[39m=\u001b[39m geodock\u001b[39m.\u001b[39;49mdock(\n\u001b[1;32m     <a href='vscode-notebook-cell://ssh-remote%2Bhpcx/central/groups/MazmanianLab/joeB/Microbiota-Immunomodulation/Microbiota-Immunomodulation/notebooks/.ipynb_checkpoints/geodock_test.ipynb#X11sdnNjb2RlLXJlbW90ZQ%3D%3D?line=12'>13</a>\u001b[0m     partner1\u001b[39m=\u001b[39;49mos\u001b[39m.\u001b[39;49mpath\u001b[39m.\u001b[39;49mjoin(input_path, \u001b[39m\"\u001b[39;49m\u001b[39mCD28_AF-P10747-F1-model_v4.pdb\u001b[39;49m\u001b[39m\"\u001b[39;49m),\n\u001b[1;32m     <a href='vscode-notebook-cell://ssh-remote%2Bhpcx/central/groups/MazmanianLab/joeB/Microbiota-Immunomodulation/Microbiota-Immunomodulation/notebooks/.ipynb_checkpoints/geodock_test.ipynb#X11sdnNjb2RlLXJlbW90ZQ%3D%3D?line=13'>14</a>\u001b[0m     partner2\u001b[39m=\u001b[39;49mos\u001b[39m.\u001b[39;49mpath\u001b[39m.\u001b[39;49mjoin(input_path, \u001b[39m\"\u001b[39;49m\u001b[39mCD80_AF-P33681-F1-model_v4.pdb\u001b[39;49m\u001b[39m\"\u001b[39;49m),\n\u001b[1;32m     <a href='vscode-notebook-cell://ssh-remote%2Bhpcx/central/groups/MazmanianLab/joeB/Microbiota-Immunomodulation/Microbiota-Immunomodulation/notebooks/.ipynb_checkpoints/geodock_test.ipynb#X11sdnNjb2RlLXJlbW90ZQ%3D%3D?line=14'>15</a>\u001b[0m     out_name\u001b[39m=\u001b[39;49m\u001b[39m\"\u001b[39;49m\u001b[39mCD28-CD80_GeoDock\u001b[39;49m\u001b[39m\"\u001b[39;49m,\n\u001b[1;32m     <a href='vscode-notebook-cell://ssh-remote%2Bhpcx/central/groups/MazmanianLab/joeB/Microbiota-Immunomodulation/Microbiota-Immunomodulation/notebooks/.ipynb_checkpoints/geodock_test.ipynb#X11sdnNjb2RlLXJlbW90ZQ%3D%3D?line=15'>16</a>\u001b[0m     do_refine\u001b[39m=\u001b[39;49m\u001b[39mTrue\u001b[39;49;00m,\n\u001b[1;32m     <a href='vscode-notebook-cell://ssh-remote%2Bhpcx/central/groups/MazmanianLab/joeB/Microbiota-Immunomodulation/Microbiota-Immunomodulation/notebooks/.ipynb_checkpoints/geodock_test.ipynb#X11sdnNjb2RlLXJlbW90ZQ%3D%3D?line=16'>17</a>\u001b[0m     use_openmm\u001b[39m=\u001b[39;49m\u001b[39mTrue\u001b[39;49;00m,\n\u001b[1;32m     <a href='vscode-notebook-cell://ssh-remote%2Bhpcx/central/groups/MazmanianLab/joeB/Microbiota-Immunomodulation/Microbiota-Immunomodulation/notebooks/.ipynb_checkpoints/geodock_test.ipynb#X11sdnNjb2RlLXJlbW90ZQ%3D%3D?line=17'>18</a>\u001b[0m )\n",
      "File \u001b[0;32m/central/groups/MazmanianLab/joeB/software/mambaforge/envs/geodock/lib/python3.10/site-packages/geodock/GeoDockRunner.py:72\u001b[0m, in \u001b[0;36mGeoDockRunner.dock\u001b[0;34m(self, partner1, partner2, out_name, do_refine, use_openmm)\u001b[0m\n\u001b[1;32m     64\u001b[0m model_in \u001b[39m=\u001b[39m \u001b[39mself\u001b[39m\u001b[39m.\u001b[39membed(\n\u001b[1;32m     65\u001b[0m     seq1,\n\u001b[1;32m     66\u001b[0m     seq2,\n\u001b[1;32m     67\u001b[0m     coords1,\n\u001b[1;32m     68\u001b[0m     coords2,\n\u001b[1;32m     69\u001b[0m )\n\u001b[1;32m     71\u001b[0m \u001b[39m# Start docking\u001b[39;00m\n\u001b[0;32m---> 72\u001b[0m dock(\n\u001b[1;32m     73\u001b[0m     out_name,\n\u001b[1;32m     74\u001b[0m     seq1,\n\u001b[1;32m     75\u001b[0m     seq2,\n\u001b[1;32m     76\u001b[0m     model_in,\n\u001b[1;32m     77\u001b[0m     \u001b[39mself\u001b[39;49m\u001b[39m.\u001b[39;49mmodel,\n\u001b[1;32m     78\u001b[0m     do_refine\u001b[39m=\u001b[39;49mdo_refine,\n\u001b[1;32m     79\u001b[0m     use_openmm\u001b[39m=\u001b[39;49muse_openmm,\n\u001b[1;32m     80\u001b[0m )\n",
      "File \u001b[0;32m/central/groups/MazmanianLab/joeB/software/mambaforge/envs/geodock/lib/python3.10/site-packages/geodock/utils/docking.py:74\u001b[0m, in \u001b[0;36mdock\u001b[0;34m(out_name, seq1, seq2, model_in, model, do_refine, use_openmm)\u001b[0m\n\u001b[1;32m     72\u001b[0m         refine_input \u001b[39m=\u001b[39m [out_pdb]\n\u001b[1;32m     73\u001b[0m     \u001b[39mexcept\u001b[39;00m:\n\u001b[0;32m---> 74\u001b[0m         exit(\u001b[39m\"\u001b[39m\u001b[39mOpenMM not installed. Please install OpenMM to use refinement.\u001b[39m\u001b[39m\"\u001b[39m)\n\u001b[1;32m     75\u001b[0m \u001b[39melse\u001b[39;00m:\n\u001b[1;32m     76\u001b[0m     \u001b[39mtry\u001b[39;00m:\n",
      "\u001b[0;31mNameError\u001b[0m: name 'exit' is not defined"
     ]
    }
   ],
   "source": [
    "import os\n",
    "import sys\n",
    "import torch\n",
    "import re\n",
    "\n",
    "os.environ['TORCH_HOME'] = '/central/groups/MazmanianLab/joeB/cache/GeoDock/geodock/weights'\n",
    "from geodock.GeoDockRunner import GeoDockRunner\n",
    "torch.cuda.empty_cache()\n",
    "ckpt_file = \"/central/groups/MazmanianLab/joeB/docking/GeoDock/geodock/weights/dips_0.3.ckpt\"\n",
    "geodock = GeoDockRunner(ckpt_file=ckpt_file)\n",
    "\n",
    "input_path = \"/central/groups/MazmanianLab/joeB/Microbiota-Immunomodulation/Microbiota-Immunomodulation/data/interim/scratch\"\n",
    "pred = geodock.dock(\n",
    "    partner1=os.path.join(input_path, \"CD28_AF-P10747-F1-model_v4.pdb\"),\n",
    "    partner2=os.path.join(input_path, \"CD80_AF-P33681-F1-model_v4.pdb\"),\n",
    "    out_name=\"CD28-CD80_GeoDock\",\n",
    "    do_refine=True,\n",
    "    use_openmm=True,\n",
    ")"
   ]
  },
  {
   "cell_type": "code",
   "execution_count": 10,
   "metadata": {},
   "outputs": [
    {
     "name": "stdout",
     "output_type": "stream",
     "text": [
      "Completed embedding in 9.70 seconds.\n",
      "File './PD1-PDL1_GeoDock.pdb' does not exist.\n",
      "Completed docking in 32.52 seconds.\n"
     ]
    }
   ],
   "source": [
    "input_path = \"/central/groups/MazmanianLab/joeB/Microbiota-Immunomodulation/Microbiota-Immunomodulation/data/interim/scratch\"\n",
    "pred = geodock.dock(\n",
    "    partner1=os.path.join(input_path, \"PD1_AF-Q15116-F1-model_v4.pdb\"),\n",
    "    partner2=os.path.join(input_path, \"PDL1_AF-Q9NZQ7-F1-model_v4.pdb\"),\n",
    "    out_name=\"PD1-PDL1_GeoDock\",\n",
    "    do_refine=False,\n",
    "    use_openmm=False,\n",
    ")"
   ]
  },
  {
   "cell_type": "code",
   "execution_count": 7,
   "metadata": {},
   "outputs": [
    {
     "name": "stdout",
     "output_type": "stream",
     "text": [
      "/central/groups/MazmanianLab/joeB/R-Libraries:/central/slurm/install/current/lib/:/central/groups/MazmanianLab/joeB/R-Libraries:/central/slurm/install/current/lib/:\n"
     ]
    }
   ],
   "source": [
    "# !export LD_LIBRARY_PATH=/home/.conda/envs/immune-builder/lib\n",
    "# !export LD_LIBRARY_PATH=$CONDA_PREFIX/lib:$LD_LIBRARY_PATH\n",
    "# !echo $LD_LIBRARY_PATH"
   ]
  },
  {
   "cell_type": "code",
   "execution_count": 5,
   "metadata": {},
   "outputs": [
    {
     "ename": "ImportError",
     "evalue": "/central/groups/MazmanianLab/joeB/software/mambaforge/envs/geodock/lib/python3.10/site-packages/zmq/backend/cython/../../../../.././libstdc++.so.6: version `GLIBCXX_3.4.30' not found (required by /central/groups/MazmanianLab/joeB/software/mambaforge/envs/geodock/lib/python3.10/site-packages/openmm/../../../libOpenMM.so.8.0)",
     "output_type": "error",
     "traceback": [
      "\u001b[0;31m---------------------------------------------------------------------------\u001b[0m",
      "\u001b[0;31mImportError\u001b[0m                               Traceback (most recent call last)",
      "\u001b[0;32m/tmp/ipykernel_48676/2787389098.py\u001b[0m in \u001b[0;36m?\u001b[0;34m()\u001b[0m\n\u001b[0;32m----> 1\u001b[0;31m \u001b[0;32mfrom\u001b[0m \u001b[0mopenmm\u001b[0m\u001b[0;34m.\u001b[0m\u001b[0mapp\u001b[0m \u001b[0;32mimport\u001b[0m \u001b[0;34m*\u001b[0m\u001b[0;34m\u001b[0m\u001b[0;34m\u001b[0m\u001b[0m\n\u001b[0m\u001b[1;32m      2\u001b[0m \u001b[0;32mfrom\u001b[0m \u001b[0mopenmm\u001b[0m \u001b[0;32mimport\u001b[0m \u001b[0;34m*\u001b[0m\u001b[0;34m\u001b[0m\u001b[0;34m\u001b[0m\u001b[0m\n\u001b[1;32m      3\u001b[0m \u001b[0;32mfrom\u001b[0m \u001b[0mopenmm\u001b[0m\u001b[0;34m.\u001b[0m\u001b[0munit\u001b[0m \u001b[0;32mimport\u001b[0m \u001b[0;34m*\u001b[0m\u001b[0;34m\u001b[0m\u001b[0;34m\u001b[0m\u001b[0m\n\u001b[1;32m      4\u001b[0m \u001b[0;32mfrom\u001b[0m \u001b[0msys\u001b[0m \u001b[0;32mimport\u001b[0m \u001b[0mstdout\u001b[0m\u001b[0;34m\u001b[0m\u001b[0;34m\u001b[0m\u001b[0m\n",
      "\u001b[0;32m/central/groups/MazmanianLab/joeB/software/mambaforge/envs/geodock/lib/python3.10/site-packages/openmm/__init__.py\u001b[0m in \u001b[0;36m?\u001b[0;34m()\u001b[0m\n\u001b[1;32m     20\u001b[0m             \u001b[0;32mfrom\u001b[0m \u001b[0;34m.\u001b[0m \u001b[0;32mimport\u001b[0m \u001b[0m_openmm\u001b[0m\u001b[0;34m\u001b[0m\u001b[0;34m\u001b[0m\u001b[0m\n\u001b[1;32m     21\u001b[0m     \u001b[0;32mexcept\u001b[0m\u001b[0;34m:\u001b[0m\u001b[0;34m\u001b[0m\u001b[0;34m\u001b[0m\u001b[0m\n\u001b[1;32m     22\u001b[0m         \u001b[0;32mpass\u001b[0m\u001b[0;34m\u001b[0m\u001b[0;34m\u001b[0m\u001b[0m\n\u001b[1;32m     23\u001b[0m \u001b[0;34m\u001b[0m\u001b[0m\n\u001b[0;32m---> 24\u001b[0;31m \u001b[0;32mfrom\u001b[0m \u001b[0mopenmm\u001b[0m\u001b[0;34m.\u001b[0m\u001b[0mopenmm\u001b[0m \u001b[0;32mimport\u001b[0m \u001b[0;34m*\u001b[0m\u001b[0;34m\u001b[0m\u001b[0;34m\u001b[0m\u001b[0m\n\u001b[0m\u001b[1;32m     25\u001b[0m \u001b[0;32mfrom\u001b[0m \u001b[0mopenmm\u001b[0m\u001b[0;34m.\u001b[0m\u001b[0mvec3\u001b[0m \u001b[0;32mimport\u001b[0m \u001b[0mVec3\u001b[0m\u001b[0;34m\u001b[0m\u001b[0;34m\u001b[0m\u001b[0m\n\u001b[1;32m     26\u001b[0m \u001b[0;32mfrom\u001b[0m \u001b[0mopenmm\u001b[0m\u001b[0;34m.\u001b[0m\u001b[0mmtsintegrator\u001b[0m \u001b[0;32mimport\u001b[0m \u001b[0mMTSIntegrator\u001b[0m\u001b[0;34m,\u001b[0m \u001b[0mMTSLangevinIntegrator\u001b[0m\u001b[0;34m\u001b[0m\u001b[0;34m\u001b[0m\u001b[0m\n\u001b[1;32m     27\u001b[0m \u001b[0;32mfrom\u001b[0m \u001b[0mopenmm\u001b[0m\u001b[0;34m.\u001b[0m\u001b[0mamd\u001b[0m \u001b[0;32mimport\u001b[0m \u001b[0mAMDIntegrator\u001b[0m\u001b[0;34m,\u001b[0m \u001b[0mAMDForceGroupIntegrator\u001b[0m\u001b[0;34m,\u001b[0m \u001b[0mDualAMDIntegrator\u001b[0m\u001b[0;34m\u001b[0m\u001b[0;34m\u001b[0m\u001b[0m\n",
      "\u001b[0;32m/central/groups/MazmanianLab/joeB/software/mambaforge/envs/geodock/lib/python3.10/site-packages/openmm/openmm.py\u001b[0m in \u001b[0;36m?\u001b[0;34m()\u001b[0m\n\u001b[1;32m      6\u001b[0m \u001b[0;34m\u001b[0m\u001b[0m\n\u001b[1;32m      7\u001b[0m \u001b[0;32mfrom\u001b[0m \u001b[0msys\u001b[0m \u001b[0;32mimport\u001b[0m \u001b[0mversion_info\u001b[0m \u001b[0;32mas\u001b[0m \u001b[0m_swig_python_version_info\u001b[0m\u001b[0;34m\u001b[0m\u001b[0;34m\u001b[0m\u001b[0m\n\u001b[1;32m      8\u001b[0m \u001b[0;31m# Import the low-level C/C++ module\u001b[0m\u001b[0;34m\u001b[0m\u001b[0;34m\u001b[0m\u001b[0m\n\u001b[1;32m      9\u001b[0m \u001b[0;32mif\u001b[0m \u001b[0m__package__\u001b[0m \u001b[0;32mor\u001b[0m \u001b[0;34m\".\"\u001b[0m \u001b[0;32min\u001b[0m \u001b[0m__name__\u001b[0m\u001b[0;34m:\u001b[0m\u001b[0;34m\u001b[0m\u001b[0;34m\u001b[0m\u001b[0m\n\u001b[0;32m---> 10\u001b[0;31m     \u001b[0;32mfrom\u001b[0m \u001b[0;34m.\u001b[0m \u001b[0;32mimport\u001b[0m \u001b[0m_openmm\u001b[0m\u001b[0;34m\u001b[0m\u001b[0;34m\u001b[0m\u001b[0m\n\u001b[0m\u001b[1;32m     11\u001b[0m \u001b[0;32melse\u001b[0m\u001b[0;34m:\u001b[0m\u001b[0;34m\u001b[0m\u001b[0;34m\u001b[0m\u001b[0m\n\u001b[1;32m     12\u001b[0m     \u001b[0;32mimport\u001b[0m \u001b[0m_openmm\u001b[0m\u001b[0;34m\u001b[0m\u001b[0;34m\u001b[0m\u001b[0m\n\u001b[1;32m     13\u001b[0m \u001b[0;34m\u001b[0m\u001b[0m\n",
      "\u001b[0;31mImportError\u001b[0m: /central/groups/MazmanianLab/joeB/software/mambaforge/envs/geodock/lib/python3.10/site-packages/zmq/backend/cython/../../../../.././libstdc++.so.6: version `GLIBCXX_3.4.30' not found (required by /central/groups/MazmanianLab/joeB/software/mambaforge/envs/geodock/lib/python3.10/site-packages/openmm/../../../libOpenMM.so.8.0)"
     ]
    }
   ],
   "source": [
    "from openmm.app import *\n",
    "from openmm import *\n",
    "from openmm.unit import *\n",
    "from sys import stdout\n"
   ]
  },
  {
   "cell_type": "code",
   "execution_count": null,
   "metadata": {},
   "outputs": [],
   "source": []
  }
 ],
 "metadata": {
  "kernelspec": {
   "display_name": "Python 3",
   "language": "python",
   "name": "python3"
  },
  "language_info": {
   "codemirror_mode": {
    "name": "ipython",
    "version": 3
   },
   "file_extension": ".py",
   "mimetype": "text/x-python",
   "name": "python",
   "nbconvert_exporter": "python",
   "pygments_lexer": "ipython3",
   "version": "3.10.13"
  }
 },
 "nbformat": 4,
 "nbformat_minor": 2
}
