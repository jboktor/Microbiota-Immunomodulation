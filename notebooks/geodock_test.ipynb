{
 "cells": [
  {
   "cell_type": "markdown",
   "metadata": {},
   "source": [
    "Installing Dependencies..."
   ]
  },
  {
   "cell_type": "markdown",
   "metadata": {},
   "source": [
    "mamba create -y -n geodock python=3.10 ; mamba activate geodock; mamba install -y -c conda-forge ipykernel && \\\n",
    "pip3 install torch torchvision torchaudio --index-url https://download.pytorch.org/whl/cu117 && \\\n",
    "mamba install -y -c conda-forge pdbfixer && \\\n",
    "pip install scipy\n",
    "\n",
    "<!-- mamba install -y pytorch==1.13.1 pytorch-cuda=11.7 -c pytorch -c nvidia && \\\n",
    "mamba install -y -c conda-forge openmm swig pdbfixer openbabel smina fpocket vina && \\\n",
    "mamba install -y -c bioconda pyrsistent foldseek &&\\\n",
    "mamba install -y -c pyg pyg=2.3.1=py310_torch_1.13.0_cu117 pytorch-cluster=1.6.1=py310_torch_1.13.0_cu117 pytorch-sparse=0.6.17=py310_torch_1.13.0_cu117 pytorch-scatter=2.1.1=py310_torch_1.13.0_cu117 && \\\n",
    "mamba install -y -c bioconda -c \"dglteam/label/cu117\" dgl -->"
   ]
  },
  {
   "cell_type": "code",
   "execution_count": 11,
   "metadata": {},
   "outputs": [],
   "source": [
    "import os\n",
    "import sys\n",
    "import torch\n",
    "# os.environ['TORCH_HOME'] = '/central/groups/MazmanianLab/joeB/cache/GeoDock/geodock/weights'\n",
    "os.environ['TORCH_HOME'] = '/mnt/nvme0/jbok/cache'\n",
    "os.environ['PYTORCH_CUDA_ALLOC_CONF'] = 'max_split_size_mb:32'"
   ]
  },
  {
   "cell_type": "code",
   "execution_count": null,
   "metadata": {},
   "outputs": [],
   "source": [
    "# Installing pytorch for CUDA 11.7\n",
    "\n",
    "pyt_version_str=torch.__version__.split(\"+\")[0].replace(\".\", \"\")\n",
    "version_str=\"\".join([\n",
    "    f\"py3{sys.version_info.minor}_cu\",\n",
    "    torch.version.cuda.replace(\".\",\"\"),\n",
    "    f\"_pyt{pyt_version_str}\"\n",
    "])\n",
    "\n",
    "def format_pytorch_version(version):\n",
    "  return version.split('+')[0]\n",
    "\n",
    "TORCH_version = torch.__version__\n",
    "TORCH = format_pytorch_version(TORCH_version)\n",
    "\n",
    "def format_cuda_version(version):\n",
    "  return 'cu' + version.replace('.', '')\n",
    "\n",
    "CUDA_version = torch.version.cuda\n",
    "CUDA = format_cuda_version(CUDA_version)\n",
    "\n",
    "!pip install geodock\n",
    "!pip install torch-geometric\n",
    "!pip install torch-scatter     -f https://pytorch-geometric.com/whl/torch-{TORCH}+{CUDA}.html\n",
    "!pip install torch-sparse      -f https://pytorch-geometric.com/whl/torch-{TORCH}+{CUDA}.html\n",
    "!pip install torch-cluster     -f https://pytorch-geometric.com/whl/torch-{TORCH}+{CUDA}.html\n",
    "!pip install torch-spline-conv -f https://pytorch-geometric.com/whl/torch-{TORCH}+{CUDA}.html\n",
    "!pip install py3Dmol\n",
    "\n",
    "# download model weights\n",
    "# !cd /central/groups/MazmanianLab/joeB/docking && git clone https://github.com/Graylab/GeoDock.git\n",
    "# !cd /mnt/nvme0/jbok/docking && git clone https://github.com/Graylab/GeoDock.git"
   ]
  },
  {
   "cell_type": "code",
   "execution_count": 1,
   "metadata": {},
   "outputs": [],
   "source": [
    "import os\n",
    "import sys\n",
    "import torch\n",
    "# os.environ['TORCH_HOME'] = '/central/groups/MazmanianLab/joeB/cache/GeoDock/geodock/weights'\n",
    "os.environ['TORCH_HOME'] = '/mnt/nvme0/jbok/cache'\n",
    "os.environ['PYTORCH_CUDA_ALLOC_CONF'] = 'max_split_size_mb:128'"
   ]
  },
  {
   "cell_type": "code",
   "execution_count": 2,
   "metadata": {},
   "outputs": [],
   "source": [
    "from geodock.GeoDockRunner import GeoDockRunner\n",
    "torch.cuda.empty_cache()\n",
    "# ckpt_file = \"/central/groups/MazmanianLab/joeB/docking/GeoDock/geodock/weights/dips_0.3.ckpt\"\n",
    "ckpt_file = \"/mnt/nvme0/jbok/docking/GeoDock/geodock/weights/dips_0.3.ckpt\"\n",
    "geodock = GeoDockRunner(ckpt_file=ckpt_file)"
   ]
  },
  {
   "cell_type": "code",
   "execution_count": 3,
   "metadata": {},
   "outputs": [],
   "source": [
    "# # input_path = \"/central/groups/MazmanianLab/joeB/Microbiota-Immunomodulation/Microbiota-Immunomodulation/data/interim/scratch\"\n",
    "# input_path = \"/mnt/nvme0/jbok/Microbiota-Immunomodulation/data/scratch\"\n",
    "# pred = geodock.dock(\n",
    "#     partner1=os.path.join(input_path, \"CD28_AF-P10747-F1-model_v4.pdb\"),\n",
    "#     partner2=os.path.join(input_path, \"CD80_AF-P33681-F1-model_v4.pdb\"),\n",
    "#     out_name=\"CD28-CD80_GeoDock_Refined_r2\",\n",
    "#     do_refine=True,\n",
    "#     use_openmm=True\n",
    "# )"
   ]
  },
  {
   "cell_type": "markdown",
   "metadata": {},
   "source": [
    "Docking tR01 - POC monomers in all pairwise matches"
   ]
  },
  {
   "cell_type": "code",
   "execution_count": 4,
   "metadata": {},
   "outputs": [],
   "source": [
    "import pandas as pd\n",
    "# import concurrent.futures\n",
    "wkdir = '/mnt/nvme0/jbok/Microbiota-Immunomodulation'\n",
    "pdb_paths = wkdir + '/data/scratch/ranked_0_pdbs'\n",
    "geodock_outdir = wkdir + '/data/scratch/geodock_results'\n"
   ]
  },
  {
   "cell_type": "code",
   "execution_count": 5,
   "metadata": {},
   "outputs": [],
   "source": [
    "# Function to construct the new path\n",
    "def construct_new_path(old_path, new_folder, index):\n",
    "    # Extract the filename part (like 'P35590') from the old path\n",
    "    filename_part = old_path.split('/')[index].split('_')[0]\n",
    "    # Construct the new path with the new folder and modified filename\n",
    "    new_path = os.path.join(new_folder, f'{filename_part}_ranked_0.pdb')\n",
    "    return new_path\n",
    "\n",
    "# Read the CSV file\n",
    "\n",
    "df = pd.read_csv(f\"{wkdir}/data/scratch/docking-pairs_rank0-pdbs.csv\")\n",
    "# df.head\n",
    "# # Update the paths\n",
    "df['path1'] = df['path1'].apply(lambda x: construct_new_path(x, pdb_paths, -2))\n",
    "df['path2'] = df['path2'].apply(lambda x: construct_new_path(x, pdb_paths, -2))\n",
    "df['outpath'] = df['outpath'].apply(lambda x: construct_new_path(x, geodock_outdir, -1))\n",
    "df['outpath'] = df['outpath'].str.replace('.pdb', '', regex=False)\n",
    "\n",
    "# df\n",
    "dock_df = df.head(5)\n"
   ]
  },
  {
   "cell_type": "code",
   "execution_count": 6,
   "metadata": {},
   "outputs": [
    {
     "ename": "TypeError",
     "evalue": "Invalid type for fraction argument, must be `float`",
     "output_type": "error",
     "traceback": [
      "\u001b[0;31m---------------------------------------------------------------------------\u001b[0m",
      "\u001b[0;31mTypeError\u001b[0m                                 Traceback (most recent call last)",
      "\u001b[1;32m/mnt/nvme0/jbok/Microbiota-Immunomodulation/notebooks/geodock_test.ipynb Cell 11\u001b[0m line \u001b[0;36m1\n\u001b[0;32m----> <a href='vscode-notebook-cell://ssh-remote%2B129.159.40.202/mnt/nvme0/jbok/Microbiota-Immunomodulation/notebooks/geodock_test.ipynb#X40sdnNjb2RlLXJlbW90ZQ%3D%3D?line=0'>1</a>\u001b[0m torch\u001b[39m.\u001b[39;49mcuda\u001b[39m.\u001b[39;49mset_per_process_memory_fraction(\u001b[39m1\u001b[39;49m, \u001b[39m0\u001b[39;49m)\n\u001b[1;32m      <a href='vscode-notebook-cell://ssh-remote%2B129.159.40.202/mnt/nvme0/jbok/Microbiota-Immunomodulation/notebooks/geodock_test.ipynb#X40sdnNjb2RlLXJlbW90ZQ%3D%3D?line=1'>2</a>\u001b[0m \u001b[39m# torch.cuda.set_per_device_memory_fraction(0.8, 0)\u001b[39;00m\n\u001b[1;32m      <a href='vscode-notebook-cell://ssh-remote%2B129.159.40.202/mnt/nvme0/jbok/Microbiota-Immunomodulation/notebooks/geodock_test.ipynb#X40sdnNjb2RlLXJlbW90ZQ%3D%3D?line=2'>3</a>\u001b[0m torch\u001b[39m.\u001b[39mbackends\u001b[39m.\u001b[39mcuda\u001b[39m.\u001b[39mmatmul\u001b[39m.\u001b[39mallow_tf32 \u001b[39m=\u001b[39m \u001b[39mTrue\u001b[39;00m\n",
      "File \u001b[0;32m~/miniforge3/envs/geodock/lib/python3.10/site-packages/torch/cuda/memory.py:113\u001b[0m, in \u001b[0;36mset_per_process_memory_fraction\u001b[0;34m(fraction, device)\u001b[0m\n\u001b[1;32m    111\u001b[0m device \u001b[39m=\u001b[39m _get_device_index(device)\n\u001b[1;32m    112\u001b[0m \u001b[39mif\u001b[39;00m \u001b[39mnot\u001b[39;00m \u001b[39misinstance\u001b[39m(fraction, \u001b[39mfloat\u001b[39m):\n\u001b[0;32m--> 113\u001b[0m     \u001b[39mraise\u001b[39;00m \u001b[39mTypeError\u001b[39;00m(\u001b[39m'\u001b[39m\u001b[39mInvalid type for fraction argument, must be `float`\u001b[39m\u001b[39m'\u001b[39m)\n\u001b[1;32m    114\u001b[0m \u001b[39mif\u001b[39;00m fraction \u001b[39m<\u001b[39m \u001b[39m0\u001b[39m \u001b[39mor\u001b[39;00m fraction \u001b[39m>\u001b[39m \u001b[39m1\u001b[39m:\n\u001b[1;32m    115\u001b[0m     \u001b[39mraise\u001b[39;00m \u001b[39mValueError\u001b[39;00m(\u001b[39m'\u001b[39m\u001b[39mInvalid fraction value: \u001b[39m\u001b[39m{}\u001b[39;00m\u001b[39m. \u001b[39m\u001b[39m'\u001b[39m\n\u001b[1;32m    116\u001b[0m                      \u001b[39m'\u001b[39m\u001b[39mAllowed range: 0~1\u001b[39m\u001b[39m'\u001b[39m\u001b[39m.\u001b[39mformat(fraction))\n",
      "\u001b[0;31mTypeError\u001b[0m: Invalid type for fraction argument, must be `float`"
     ]
    }
   ],
   "source": [
    "torch.cuda.set_per_process_memory_fraction(1, 0)\n",
    "# torch.cuda.set_per_device_memory_fraction(0.8, 0)\n",
    "torch.backends.cuda.matmul.allow_tf32 = True\n",
    "torch.backends.cudnn.allow_tf32 = True\n",
    "torch.backends.cudnn.benchmark = True\n",
    "torch.backends.cudnn.deterministic = False"
   ]
  },
  {
   "cell_type": "code",
   "execution_count": 7,
   "metadata": {},
   "outputs": [
    {
     "name": "stdout",
     "output_type": "stream",
     "text": [
      "Completed embedding in 3.21 seconds.\n"
     ]
    },
    {
     "ename": "OutOfMemoryError",
     "evalue": "CUDA out of memory. Tried to allocate 3.66 GiB (GPU 0; 79.35 GiB total capacity; 74.93 GiB already allocated; 3.41 GiB free; 75.07 GiB reserved in total by PyTorch) If reserved memory is >> allocated memory try setting max_split_size_mb to avoid fragmentation.  See documentation for Memory Management and PYTORCH_CUDA_ALLOC_CONF",
     "output_type": "error",
     "traceback": [
      "\u001b[0;31m---------------------------------------------------------------------------\u001b[0m",
      "\u001b[0;31mOutOfMemoryError\u001b[0m                          Traceback (most recent call last)",
      "\u001b[1;32m/mnt/nvme0/jbok/Microbiota-Immunomodulation/notebooks/geodock_test.ipynb Cell 12\u001b[0m line \u001b[0;36m1\n\u001b[0;32m----> <a href='vscode-notebook-cell://ssh-remote%2B129.159.40.202/mnt/nvme0/jbok/Microbiota-Immunomodulation/notebooks/geodock_test.ipynb#X41sdnNjb2RlLXJlbW90ZQ%3D%3D?line=0'>1</a>\u001b[0m geodock\u001b[39m.\u001b[39;49mdock(\n\u001b[1;32m      <a href='vscode-notebook-cell://ssh-remote%2B129.159.40.202/mnt/nvme0/jbok/Microbiota-Immunomodulation/notebooks/geodock_test.ipynb#X41sdnNjb2RlLXJlbW90ZQ%3D%3D?line=1'>2</a>\u001b[0m     partner1\u001b[39m=\u001b[39;49mdock_df[\u001b[39m'\u001b[39;49m\u001b[39mpath1\u001b[39;49m\u001b[39m'\u001b[39;49m][\u001b[39m1\u001b[39;49m],\n\u001b[1;32m      <a href='vscode-notebook-cell://ssh-remote%2B129.159.40.202/mnt/nvme0/jbok/Microbiota-Immunomodulation/notebooks/geodock_test.ipynb#X41sdnNjb2RlLXJlbW90ZQ%3D%3D?line=2'>3</a>\u001b[0m     partner2\u001b[39m=\u001b[39;49mdock_df[\u001b[39m'\u001b[39;49m\u001b[39mpath2\u001b[39;49m\u001b[39m'\u001b[39;49m][\u001b[39m1\u001b[39;49m],\n\u001b[1;32m      <a href='vscode-notebook-cell://ssh-remote%2B129.159.40.202/mnt/nvme0/jbok/Microbiota-Immunomodulation/notebooks/geodock_test.ipynb#X41sdnNjb2RlLXJlbW90ZQ%3D%3D?line=3'>4</a>\u001b[0m     out_name\u001b[39m=\u001b[39;49mdock_df[\u001b[39m'\u001b[39;49m\u001b[39moutpath\u001b[39;49m\u001b[39m'\u001b[39;49m][\u001b[39m1\u001b[39;49m],\n\u001b[1;32m      <a href='vscode-notebook-cell://ssh-remote%2B129.159.40.202/mnt/nvme0/jbok/Microbiota-Immunomodulation/notebooks/geodock_test.ipynb#X41sdnNjb2RlLXJlbW90ZQ%3D%3D?line=4'>5</a>\u001b[0m     do_refine\u001b[39m=\u001b[39;49m\u001b[39mFalse\u001b[39;49;00m,\n\u001b[1;32m      <a href='vscode-notebook-cell://ssh-remote%2B129.159.40.202/mnt/nvme0/jbok/Microbiota-Immunomodulation/notebooks/geodock_test.ipynb#X41sdnNjb2RlLXJlbW90ZQ%3D%3D?line=5'>6</a>\u001b[0m     use_openmm\u001b[39m=\u001b[39;49m\u001b[39mFalse\u001b[39;49;00m,\n\u001b[1;32m      <a href='vscode-notebook-cell://ssh-remote%2B129.159.40.202/mnt/nvme0/jbok/Microbiota-Immunomodulation/notebooks/geodock_test.ipynb#X41sdnNjb2RlLXJlbW90ZQ%3D%3D?line=6'>7</a>\u001b[0m )\n",
      "File \u001b[0;32m~/miniforge3/envs/geodock/lib/python3.10/site-packages/geodock/GeoDockRunner.py:72\u001b[0m, in \u001b[0;36mGeoDockRunner.dock\u001b[0;34m(self, partner1, partner2, out_name, do_refine, use_openmm)\u001b[0m\n\u001b[1;32m     64\u001b[0m model_in \u001b[39m=\u001b[39m \u001b[39mself\u001b[39m\u001b[39m.\u001b[39membed(\n\u001b[1;32m     65\u001b[0m     seq1,\n\u001b[1;32m     66\u001b[0m     seq2,\n\u001b[1;32m     67\u001b[0m     coords1,\n\u001b[1;32m     68\u001b[0m     coords2,\n\u001b[1;32m     69\u001b[0m )\n\u001b[1;32m     71\u001b[0m \u001b[39m# Start docking\u001b[39;00m\n\u001b[0;32m---> 72\u001b[0m dock(\n\u001b[1;32m     73\u001b[0m     out_name,\n\u001b[1;32m     74\u001b[0m     seq1,\n\u001b[1;32m     75\u001b[0m     seq2,\n\u001b[1;32m     76\u001b[0m     model_in,\n\u001b[1;32m     77\u001b[0m     \u001b[39mself\u001b[39;49m\u001b[39m.\u001b[39;49mmodel,\n\u001b[1;32m     78\u001b[0m     do_refine\u001b[39m=\u001b[39;49mdo_refine,\n\u001b[1;32m     79\u001b[0m     use_openmm\u001b[39m=\u001b[39;49muse_openmm,\n\u001b[1;32m     80\u001b[0m )\n",
      "File \u001b[0;32m~/miniforge3/envs/geodock/lib/python3.10/site-packages/geodock/utils/docking.py:22\u001b[0m, in \u001b[0;36mdock\u001b[0;34m(out_name, seq1, seq2, model_in, model, do_refine, use_openmm)\u001b[0m\n\u001b[1;32m     19\u001b[0m start_time \u001b[39m=\u001b[39m time()\n\u001b[1;32m     21\u001b[0m \u001b[39m# get prediction\u001b[39;00m\n\u001b[0;32m---> 22\u001b[0m model_out \u001b[39m=\u001b[39m model(model_in)\n\u001b[1;32m     24\u001b[0m \u001b[39m# coords and plddt\u001b[39;00m\n\u001b[1;32m     25\u001b[0m coords \u001b[39m=\u001b[39m model_out\u001b[39m.\u001b[39mcoords\u001b[39m.\u001b[39msqueeze()\n",
      "File \u001b[0;32m~/miniforge3/envs/geodock/lib/python3.10/site-packages/torch/nn/modules/module.py:1501\u001b[0m, in \u001b[0;36mModule._call_impl\u001b[0;34m(self, *args, **kwargs)\u001b[0m\n\u001b[1;32m   1496\u001b[0m \u001b[39m# If we don't have any hooks, we want to skip the rest of the logic in\u001b[39;00m\n\u001b[1;32m   1497\u001b[0m \u001b[39m# this function, and just call forward.\u001b[39;00m\n\u001b[1;32m   1498\u001b[0m \u001b[39mif\u001b[39;00m \u001b[39mnot\u001b[39;00m (\u001b[39mself\u001b[39m\u001b[39m.\u001b[39m_backward_hooks \u001b[39mor\u001b[39;00m \u001b[39mself\u001b[39m\u001b[39m.\u001b[39m_backward_pre_hooks \u001b[39mor\u001b[39;00m \u001b[39mself\u001b[39m\u001b[39m.\u001b[39m_forward_hooks \u001b[39mor\u001b[39;00m \u001b[39mself\u001b[39m\u001b[39m.\u001b[39m_forward_pre_hooks\n\u001b[1;32m   1499\u001b[0m         \u001b[39mor\u001b[39;00m _global_backward_pre_hooks \u001b[39mor\u001b[39;00m _global_backward_hooks\n\u001b[1;32m   1500\u001b[0m         \u001b[39mor\u001b[39;00m _global_forward_hooks \u001b[39mor\u001b[39;00m _global_forward_pre_hooks):\n\u001b[0;32m-> 1501\u001b[0m     \u001b[39mreturn\u001b[39;00m forward_call(\u001b[39m*\u001b[39;49margs, \u001b[39m*\u001b[39;49m\u001b[39m*\u001b[39;49mkwargs)\n\u001b[1;32m   1502\u001b[0m \u001b[39m# Do not call functions when jit is used\u001b[39;00m\n\u001b[1;32m   1503\u001b[0m full_backward_hooks, non_full_backward_hooks \u001b[39m=\u001b[39m [], []\n",
      "File \u001b[0;32m~/miniforge3/envs/geodock/lib/python3.10/site-packages/geodock/model/GeoDock.py:66\u001b[0m, in \u001b[0;36mGeoDock.forward\u001b[0;34m(self, input)\u001b[0m\n\u001b[1;32m     63\u001b[0m edges \u001b[39m=\u001b[39m \u001b[39mself\u001b[39m\u001b[39m.\u001b[39mpair_to_edge(pair_embeddings) \u001b[39m+\u001b[39m \u001b[39mself\u001b[39m\u001b[39m.\u001b[39mpositional_to_edge(positional_embeddings)\n\u001b[1;32m     65\u001b[0m \u001b[39m# Networks\u001b[39;00m\n\u001b[0;32m---> 66\u001b[0m lddt_logits, dist_logits, coords, rotat, trans \u001b[39m=\u001b[39m \u001b[39mself\u001b[39;49m\u001b[39m.\u001b[39;49mnet(\n\u001b[1;32m     67\u001b[0m     node\u001b[39m=\u001b[39;49mnodes, \n\u001b[1;32m     68\u001b[0m     edge\u001b[39m=\u001b[39;49medges, \n\u001b[1;32m     69\u001b[0m )\n\u001b[1;32m     71\u001b[0m \u001b[39m# Outputs\u001b[39;00m\n\u001b[1;32m     72\u001b[0m output \u001b[39m=\u001b[39m GeoDockOutput(\n\u001b[1;32m     73\u001b[0m     coords\u001b[39m=\u001b[39mcoords,\n\u001b[1;32m     74\u001b[0m     rotat\u001b[39m=\u001b[39mrotat,\n\u001b[0;32m   (...)\u001b[0m\n\u001b[1;32m     77\u001b[0m     dist_logits\u001b[39m=\u001b[39mdist_logits,\n\u001b[1;32m     78\u001b[0m )\n",
      "File \u001b[0;32m~/miniforge3/envs/geodock/lib/python3.10/site-packages/torch/nn/modules/module.py:1501\u001b[0m, in \u001b[0;36mModule._call_impl\u001b[0;34m(self, *args, **kwargs)\u001b[0m\n\u001b[1;32m   1496\u001b[0m \u001b[39m# If we don't have any hooks, we want to skip the rest of the logic in\u001b[39;00m\n\u001b[1;32m   1497\u001b[0m \u001b[39m# this function, and just call forward.\u001b[39;00m\n\u001b[1;32m   1498\u001b[0m \u001b[39mif\u001b[39;00m \u001b[39mnot\u001b[39;00m (\u001b[39mself\u001b[39m\u001b[39m.\u001b[39m_backward_hooks \u001b[39mor\u001b[39;00m \u001b[39mself\u001b[39m\u001b[39m.\u001b[39m_backward_pre_hooks \u001b[39mor\u001b[39;00m \u001b[39mself\u001b[39m\u001b[39m.\u001b[39m_forward_hooks \u001b[39mor\u001b[39;00m \u001b[39mself\u001b[39m\u001b[39m.\u001b[39m_forward_pre_hooks\n\u001b[1;32m   1499\u001b[0m         \u001b[39mor\u001b[39;00m _global_backward_pre_hooks \u001b[39mor\u001b[39;00m _global_backward_hooks\n\u001b[1;32m   1500\u001b[0m         \u001b[39mor\u001b[39;00m _global_forward_hooks \u001b[39mor\u001b[39;00m _global_forward_pre_hooks):\n\u001b[0;32m-> 1501\u001b[0m     \u001b[39mreturn\u001b[39;00m forward_call(\u001b[39m*\u001b[39;49margs, \u001b[39m*\u001b[39;49m\u001b[39m*\u001b[39;49mkwargs)\n\u001b[1;32m   1502\u001b[0m \u001b[39m# Do not call functions when jit is used\u001b[39;00m\n\u001b[1;32m   1503\u001b[0m full_backward_hooks, non_full_backward_hooks \u001b[39m=\u001b[39m [], []\n",
      "File \u001b[0;32m~/miniforge3/envs/geodock/lib/python3.10/site-packages/geodock/model/modules/iterative_transformer.py:71\u001b[0m, in \u001b[0;36mIterativeTransformer.forward\u001b[0;34m(self, node, edge, mask, rotat, trans)\u001b[0m\n\u001b[1;32m     68\u001b[0m recycled_edge \u001b[39m+\u001b[39m\u001b[39m=\u001b[39m \u001b[39mself\u001b[39m\u001b[39m.\u001b[39mrecycled_disto(recycled_bins\u001b[39m.\u001b[39mdetach())\n\u001b[1;32m     70\u001b[0m \u001b[39m# graph module\u001b[39;00m\n\u001b[0;32m---> 71\u001b[0m node, edge \u001b[39m=\u001b[39m \u001b[39mself\u001b[39;49m\u001b[39m.\u001b[39;49mgraph_module(node_0 \u001b[39m+\u001b[39;49m recycled_node, edge_0 \u001b[39m+\u001b[39;49m recycled_edge)\n\u001b[1;32m     73\u001b[0m \u001b[39m# structure module\u001b[39;00m\n\u001b[1;32m     74\u001b[0m feats, rotat, trans \u001b[39m=\u001b[39m \u001b[39mself\u001b[39m\u001b[39m.\u001b[39mstructure_module(\n\u001b[1;32m     75\u001b[0m     node,\n\u001b[1;32m     76\u001b[0m     edge,\n\u001b[1;32m     77\u001b[0m     mask\u001b[39m=\u001b[39mmask,\n\u001b[1;32m     78\u001b[0m )\n",
      "File \u001b[0;32m~/miniforge3/envs/geodock/lib/python3.10/site-packages/torch/nn/modules/module.py:1501\u001b[0m, in \u001b[0;36mModule._call_impl\u001b[0;34m(self, *args, **kwargs)\u001b[0m\n\u001b[1;32m   1496\u001b[0m \u001b[39m# If we don't have any hooks, we want to skip the rest of the logic in\u001b[39;00m\n\u001b[1;32m   1497\u001b[0m \u001b[39m# this function, and just call forward.\u001b[39;00m\n\u001b[1;32m   1498\u001b[0m \u001b[39mif\u001b[39;00m \u001b[39mnot\u001b[39;00m (\u001b[39mself\u001b[39m\u001b[39m.\u001b[39m_backward_hooks \u001b[39mor\u001b[39;00m \u001b[39mself\u001b[39m\u001b[39m.\u001b[39m_backward_pre_hooks \u001b[39mor\u001b[39;00m \u001b[39mself\u001b[39m\u001b[39m.\u001b[39m_forward_hooks \u001b[39mor\u001b[39;00m \u001b[39mself\u001b[39m\u001b[39m.\u001b[39m_forward_pre_hooks\n\u001b[1;32m   1499\u001b[0m         \u001b[39mor\u001b[39;00m _global_backward_pre_hooks \u001b[39mor\u001b[39;00m _global_backward_hooks\n\u001b[1;32m   1500\u001b[0m         \u001b[39mor\u001b[39;00m _global_forward_hooks \u001b[39mor\u001b[39;00m _global_forward_pre_hooks):\n\u001b[0;32m-> 1501\u001b[0m     \u001b[39mreturn\u001b[39;00m forward_call(\u001b[39m*\u001b[39;49margs, \u001b[39m*\u001b[39;49m\u001b[39m*\u001b[39;49mkwargs)\n\u001b[1;32m   1502\u001b[0m \u001b[39m# Do not call functions when jit is used\u001b[39;00m\n\u001b[1;32m   1503\u001b[0m full_backward_hooks, non_full_backward_hooks \u001b[39m=\u001b[39m [], []\n",
      "File \u001b[0;32m~/miniforge3/envs/geodock/lib/python3.10/site-packages/geodock/model/modules/graph_module.py:284\u001b[0m, in \u001b[0;36mGraphModule.forward\u001b[0;34m(self, node, edge)\u001b[0m\n\u001b[1;32m    282\u001b[0m \u001b[39mdef\u001b[39;00m \u001b[39mforward\u001b[39m(\u001b[39mself\u001b[39m, node, edge):\n\u001b[1;32m    283\u001b[0m     \u001b[39mfor\u001b[39;00m block \u001b[39min\u001b[39;00m \u001b[39mself\u001b[39m\u001b[39m.\u001b[39mblocks:\n\u001b[0;32m--> 284\u001b[0m         node, edge \u001b[39m=\u001b[39m block(node, edge)\n\u001b[1;32m    285\u001b[0m     \u001b[39mreturn\u001b[39;00m node, edge\n",
      "File \u001b[0;32m~/miniforge3/envs/geodock/lib/python3.10/site-packages/torch/nn/modules/module.py:1501\u001b[0m, in \u001b[0;36mModule._call_impl\u001b[0;34m(self, *args, **kwargs)\u001b[0m\n\u001b[1;32m   1496\u001b[0m \u001b[39m# If we don't have any hooks, we want to skip the rest of the logic in\u001b[39;00m\n\u001b[1;32m   1497\u001b[0m \u001b[39m# this function, and just call forward.\u001b[39;00m\n\u001b[1;32m   1498\u001b[0m \u001b[39mif\u001b[39;00m \u001b[39mnot\u001b[39;00m (\u001b[39mself\u001b[39m\u001b[39m.\u001b[39m_backward_hooks \u001b[39mor\u001b[39;00m \u001b[39mself\u001b[39m\u001b[39m.\u001b[39m_backward_pre_hooks \u001b[39mor\u001b[39;00m \u001b[39mself\u001b[39m\u001b[39m.\u001b[39m_forward_hooks \u001b[39mor\u001b[39;00m \u001b[39mself\u001b[39m\u001b[39m.\u001b[39m_forward_pre_hooks\n\u001b[1;32m   1499\u001b[0m         \u001b[39mor\u001b[39;00m _global_backward_pre_hooks \u001b[39mor\u001b[39;00m _global_backward_hooks\n\u001b[1;32m   1500\u001b[0m         \u001b[39mor\u001b[39;00m _global_forward_hooks \u001b[39mor\u001b[39;00m _global_forward_pre_hooks):\n\u001b[0;32m-> 1501\u001b[0m     \u001b[39mreturn\u001b[39;00m forward_call(\u001b[39m*\u001b[39;49margs, \u001b[39m*\u001b[39;49m\u001b[39m*\u001b[39;49mkwargs)\n\u001b[1;32m   1502\u001b[0m \u001b[39m# Do not call functions when jit is used\u001b[39;00m\n\u001b[1;32m   1503\u001b[0m full_backward_hooks, non_full_backward_hooks \u001b[39m=\u001b[39m [], []\n",
      "File \u001b[0;32m~/miniforge3/envs/geodock/lib/python3.10/site-packages/geodock/model/modules/graph_module.py:264\u001b[0m, in \u001b[0;36mGraphBlock.forward\u001b[0;34m(self, node, edge)\u001b[0m\n\u001b[1;32m    262\u001b[0m \u001b[39mdef\u001b[39;00m \u001b[39mforward\u001b[39m(\u001b[39mself\u001b[39m, node, edge):\n\u001b[1;32m    263\u001b[0m     node \u001b[39m=\u001b[39m \u001b[39mself\u001b[39m\u001b[39m.\u001b[39mnode_update(node, edge)\n\u001b[0;32m--> 264\u001b[0m     edge \u001b[39m=\u001b[39m edge \u001b[39m+\u001b[39m \u001b[39mself\u001b[39;49m\u001b[39m.\u001b[39;49mnode_to_edge(node)\n\u001b[1;32m    265\u001b[0m     edge \u001b[39m=\u001b[39m \u001b[39mself\u001b[39m\u001b[39m.\u001b[39medge_update(edge)\n\u001b[1;32m    266\u001b[0m     \u001b[39mreturn\u001b[39;00m node, edge\n",
      "File \u001b[0;32m~/miniforge3/envs/geodock/lib/python3.10/site-packages/torch/nn/modules/module.py:1501\u001b[0m, in \u001b[0;36mModule._call_impl\u001b[0;34m(self, *args, **kwargs)\u001b[0m\n\u001b[1;32m   1496\u001b[0m \u001b[39m# If we don't have any hooks, we want to skip the rest of the logic in\u001b[39;00m\n\u001b[1;32m   1497\u001b[0m \u001b[39m# this function, and just call forward.\u001b[39;00m\n\u001b[1;32m   1498\u001b[0m \u001b[39mif\u001b[39;00m \u001b[39mnot\u001b[39;00m (\u001b[39mself\u001b[39m\u001b[39m.\u001b[39m_backward_hooks \u001b[39mor\u001b[39;00m \u001b[39mself\u001b[39m\u001b[39m.\u001b[39m_backward_pre_hooks \u001b[39mor\u001b[39;00m \u001b[39mself\u001b[39m\u001b[39m.\u001b[39m_forward_hooks \u001b[39mor\u001b[39;00m \u001b[39mself\u001b[39m\u001b[39m.\u001b[39m_forward_pre_hooks\n\u001b[1;32m   1499\u001b[0m         \u001b[39mor\u001b[39;00m _global_backward_pre_hooks \u001b[39mor\u001b[39;00m _global_backward_hooks\n\u001b[1;32m   1500\u001b[0m         \u001b[39mor\u001b[39;00m _global_forward_hooks \u001b[39mor\u001b[39;00m _global_forward_pre_hooks):\n\u001b[0;32m-> 1501\u001b[0m     \u001b[39mreturn\u001b[39;00m forward_call(\u001b[39m*\u001b[39;49margs, \u001b[39m*\u001b[39;49m\u001b[39m*\u001b[39;49mkwargs)\n\u001b[1;32m   1502\u001b[0m \u001b[39m# Do not call functions when jit is used\u001b[39;00m\n\u001b[1;32m   1503\u001b[0m full_backward_hooks, non_full_backward_hooks \u001b[39m=\u001b[39m [], []\n",
      "File \u001b[0;32m~/miniforge3/envs/geodock/lib/python3.10/site-packages/geodock/model/modules/graph_module.py:236\u001b[0m, in \u001b[0;36mNodeToEdge.forward\u001b[0;34m(self, node)\u001b[0m\n\u001b[1;32m    233\u001b[0m prod \u001b[39m=\u001b[39m q[:, \u001b[39mNone\u001b[39;00m, :, :] \u001b[39m*\u001b[39m k[:, :, \u001b[39mNone\u001b[39;00m, :]\n\u001b[1;32m    234\u001b[0m diff \u001b[39m=\u001b[39m q[:, \u001b[39mNone\u001b[39;00m, :, :] \u001b[39m-\u001b[39m k[:, :, \u001b[39mNone\u001b[39;00m, :]\n\u001b[0;32m--> 236\u001b[0m x \u001b[39m=\u001b[39m torch\u001b[39m.\u001b[39;49mcat([prod, diff], dim\u001b[39m=\u001b[39;49m\u001b[39m-\u001b[39;49m\u001b[39m1\u001b[39;49m)\n\u001b[1;32m    237\u001b[0m x \u001b[39m=\u001b[39m \u001b[39mself\u001b[39m\u001b[39m.\u001b[39mo_proj(x)\n\u001b[1;32m    239\u001b[0m \u001b[39mreturn\u001b[39;00m x\n",
      "\u001b[0;31mOutOfMemoryError\u001b[0m: CUDA out of memory. Tried to allocate 3.66 GiB (GPU 0; 79.35 GiB total capacity; 74.93 GiB already allocated; 3.41 GiB free; 75.07 GiB reserved in total by PyTorch) If reserved memory is >> allocated memory try setting max_split_size_mb to avoid fragmentation.  See documentation for Memory Management and PYTORCH_CUDA_ALLOC_CONF"
     ]
    }
   ],
   "source": [
    "geodock.dock(\n",
    "    partner1=dock_df['path1'][1],\n",
    "    partner2=dock_df['path2'][1],\n",
    "    out_name=dock_df['outpath'][1],\n",
    "    do_refine=False,\n",
    "    use_openmm=False,\n",
    ")"
   ]
  },
  {
   "cell_type": "code",
   "execution_count": 6,
   "metadata": {},
   "outputs": [],
   "source": [
    "# def dock(path1, path2, outpath):\n",
    "#     # Extract the filename for out_name from outpath\n",
    "#     out_name = os.path.basename(outpath)\n",
    "\n",
    "#     # Call the geodock.dock function with the provided arguments\n",
    "#     torch.cuda.empty_cache()\n",
    "#     geodock.dock(\n",
    "#         partner1=path1,\n",
    "#         partner2=path2,\n",
    "#         out_name=out_name,\n",
    "#         do_refine=True,\n",
    "#         use_openmm=True\n",
    "#     )"
   ]
  },
  {
   "cell_type": "code",
   "execution_count": 7,
   "metadata": {},
   "outputs": [],
   "source": [
    "# dock_df = df.head(10)\n",
    "# with concurrent.futures.ThreadPoolExecutor(max_workers=8) as executor:\n",
    "#     # Submitting tasks to the executor\n",
    "#     futures = [executor.submit(dock, row['path1'], row['path2'], row['outpath']) for index, row in dock_df.iterrows()]\n",
    "#     # Waiting for all tasks to complete (optional, depending on your use case)\n",
    "#     concurrent.futures.wait(futures)"
   ]
  },
  {
   "cell_type": "code",
   "execution_count": 8,
   "metadata": {},
   "outputs": [
    {
     "name": "stdout",
     "output_type": "stream",
     "text": [
      "Processing index: 0\n",
      "Completed embedding in 2.51 seconds.\n",
      "GPU Out of Memory error at index 0. Skipping this iteration.\n",
      "Processing index: 1\n",
      "Completed embedding in 2.44 seconds.\n",
      "GPU Out of Memory error at index 1. Skipping this iteration.\n",
      "Processing index: 2\n",
      "Completed embedding in 2.18 seconds.\n",
      "File '/mnt/nvme0/jbok/Microbiota-Immunomodulation/data/scratch/geodock_results/P35590_ranked_0.pdb' deleted successfully.\n",
      "Completed docking in 2.09 seconds.\n",
      "Processing index: 3\n",
      "Completed embedding in 2.17 seconds.\n",
      "File '/mnt/nvme0/jbok/Microbiota-Immunomodulation/data/scratch/geodock_results/P35590_ranked_0.pdb' deleted successfully.\n",
      "Completed docking in 2.17 seconds.\n",
      "Processing index: 4\n",
      "Completed embedding in 2.63 seconds.\n",
      "GPU Out of Memory error at index 4. Skipping this iteration.\n"
     ]
    }
   ],
   "source": [
    "# torch.cuda.empty_cache()\n",
    "dock_df = df.head(5)\n",
    "for index, row in dock_df.iterrows():\n",
    "    outpath = row['outpath']\n",
    "    print(f\"Processing index: {index}\")\n",
    "    # Check if the file exists\n",
    "    if os.path.exists(outpath):\n",
    "        print(f\"File {outpath} already exists. Skipping this iteration.\")\n",
    "        continue\n",
    "    try:\n",
    "        geodock.dock(\n",
    "            partner1=row['path1'],\n",
    "            partner2=row['path2'],\n",
    "            out_name=row['outpath'],\n",
    "            do_refine=False,\n",
    "            use_openmm=False,\n",
    "        )\n",
    "    except RuntimeError as e:\n",
    "        if 'out of memory' in str(e):\n",
    "            print(f\"GPU Out of Memory error at index {index}. Skipping this iteration.\")\n",
    "        else:\n",
    "            raise  # Re-raise the exception if it's not an OOM error\n",
    "    except Exception as e:\n",
    "        print(f\"An error occurred at index {index}: {e}\")"
   ]
  },
  {
   "cell_type": "code",
   "execution_count": null,
   "metadata": {},
   "outputs": [],
   "source": [
    "# !nvidia-smi\n",
    "# srun --mem=40G --time=01:00:00 --gres=gpu:1 --pty bash -i\n",
    "\n",
    "# if re.search('geodock/lib', os.environ['LD_LIBRARY_PATH']) == None:\n",
    "#     os.environ['LD_LIBRARY_PATH'] = os.environ['CONDA_PREFIX'] + \"/lib:\" + os.environ['LD_LIBRARY_PATH']\n",
    "\n",
    "# import openmm as mm"
   ]
  },
  {
   "cell_type": "code",
   "execution_count": null,
   "metadata": {},
   "outputs": [],
   "source": [
    "if re.search('geodock/lib', os.environ['LD_LIBRARY_PATH']) == None:\n",
    "    os.environ['LD_LIBRARY_PATH'] = os.environ['CONDA_PREFIX'] + \"/lib:\" + os.environ['LD_LIBRARY_PATH']"
   ]
  },
  {
   "cell_type": "code",
   "execution_count": null,
   "metadata": {},
   "outputs": [],
   "source": [
    "import os\n",
    "import sys\n",
    "import torch\n",
    "import re\n",
    "\n",
    "os.environ['TORCH_HOME'] = '/central/groups/MazmanianLab/joeB/cache/GeoDock/geodock/weights'\n",
    "from geodock.GeoDockRunner import GeoDockRunner\n",
    "torch.cuda.empty_cache()\n",
    "ckpt_file = \"/central/groups/MazmanianLab/joeB/docking/GeoDock/geodock/weights/dips_0.3.ckpt\"\n",
    "geodock = GeoDockRunner(ckpt_file=ckpt_file)\n",
    "\n",
    "input_path = \"/central/groups/MazmanianLab/joeB/Microbiota-Immunomodulation/Microbiota-Immunomodulation/data/interim/scratch\"\n",
    "pred = geodock.dock(\n",
    "    partner1=os.path.join(input_path, \"CD28_AF-P10747-F1-model_v4.pdb\"),\n",
    "    partner2=os.path.join(input_path, \"CD80_AF-P33681-F1-model_v4.pdb\"),\n",
    "    out_name=\"CD28-CD80_GeoDock\",\n",
    "    do_refine=True,\n",
    "    use_openmm=True,\n",
    ")"
   ]
  },
  {
   "cell_type": "code",
   "execution_count": null,
   "metadata": {},
   "outputs": [],
   "source": [
    "input_path = \"/central/groups/MazmanianLab/joeB/Microbiota-Immunomodulation/Microbiota-Immunomodulation/data/interim/scratch\"\n",
    "pred = geodock.dock(\n",
    "    partner1=os.path.join(input_path, \"PD1_AF-Q15116-F1-model_v4.pdb\"),\n",
    "    partner2=os.path.join(input_path, \"PDL1_AF-Q9NZQ7-F1-model_v4.pdb\"),\n",
    "    out_name=\"PD1-PDL1_GeoDock\",\n",
    "    do_refine=False,\n",
    "    use_openmm=False,\n",
    ")"
   ]
  },
  {
   "cell_type": "code",
   "execution_count": null,
   "metadata": {},
   "outputs": [],
   "source": [
    "# !export LD_LIBRARY_PATH=/home/.conda/envs/immune-builder/lib\n",
    "# !export LD_LIBRARY_PATH=$CONDA_PREFIX/lib:$LD_LIBRARY_PATH\n",
    "# !echo $LD_LIBRARY_PATH"
   ]
  },
  {
   "cell_type": "code",
   "execution_count": null,
   "metadata": {},
   "outputs": [],
   "source": [
    "# from openmm.app import *\n",
    "from openmm import *\n",
    "# from openmm.unit import *\n",
    "# from sys import stdout\n"
   ]
  },
  {
   "cell_type": "code",
   "execution_count": null,
   "metadata": {},
   "outputs": [],
   "source": [
    "import openmm as mm"
   ]
  },
  {
   "cell_type": "code",
   "execution_count": null,
   "metadata": {},
   "outputs": [],
   "source": [
    "# !mamba install -y -c conda-forge openmm cudatoolkit=11.7\n",
    "# ln -sf /usr/lib/x86_64-linux-gnu/libstdc++.so.6 /home/jbok/miniforge3/envs/geodock/lib/libstdc++.so.6\n",
    "# /home/anavani/anaconda3/envs/dmcgb/bin/../lib/libstdc++.so.6\n",
    "\n"
   ]
  },
  {
   "cell_type": "code",
   "execution_count": null,
   "metadata": {},
   "outputs": [],
   "source": []
  }
 ],
 "metadata": {
  "kernelspec": {
   "display_name": "Python 3",
   "language": "python",
   "name": "python3"
  },
  "language_info": {
   "codemirror_mode": {
    "name": "ipython",
    "version": 3
   },
   "file_extension": ".py",
   "mimetype": "text/x-python",
   "name": "python",
   "nbconvert_exporter": "python",
   "pygments_lexer": "ipython3",
   "version": "3.10.13"
  }
 },
 "nbformat": 4,
 "nbformat_minor": 2
}
