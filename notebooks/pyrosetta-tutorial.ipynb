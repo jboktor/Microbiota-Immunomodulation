{
 "cells": [
  {
   "cell_type": "markdown",
   "metadata": {},
   "source": [
    "## PyRosetta Example (Version #1)\n",
    "In this example we attempt to enhance the binding affinity of MAM superantigen to MHC by mutating MAM and then doing full-atom docking to MHC."
   ]
  },
  {
   "cell_type": "code",
   "execution_count": 2,
   "metadata": {},
   "outputs": [
    {
     "name": "stdout",
     "output_type": "stream",
     "text": [
      "PyRosetta-4 2023 [Rosetta PyRosetta4.conda.linux.cxx11thread.serialization.CentOS.python39.Release 2023.27+release.e3ce6ea9faf661ae8fa769511e2a9b8596417e58 2023-07-07T12:00:46] retrieved from: http://www.pyrosetta.org\n",
      "(C) Copyright Rosetta Commons Member Institutions. Created in JHU by Sergey Lyskov and PyRosetta Team.\n",
      "core.init: Checking for fconfig files in pwd and ./rosetta/flags\n",
      "core.init: Rosetta version: PyRosetta4.conda.linux.cxx11thread.serialization.CentOS.python39.Release r353 2023.27+release.e3ce6ea e3ce6ea9faf661ae8fa769511e2a9b8596417e58 http://www.pyrosetta.org 2023-07-07T12:00:46\n",
      "core.init: command: PyRosetta -ex1 -ex2aro -database /central/groups/MazmanianLab/joeB/software/mambaforge/envs/pyrosetta/lib/python3.9/site-packages/pyrosetta/database\n",
      "basic.random.init_random_generator: 'RNG device' seed mode, using '/dev/urandom', seed=-1080266287 seed_offset=0 real_seed=-1080266287 thread_index=0\n",
      "basic.random.init_random_generator: RandomGenerator:init: Normal mode, seed=-1080266287 RG_type=mt19937\n"
     ]
    },
    {
     "ename": "FileNotFoundError",
     "evalue": "[Errno 2] No such file or directory: '2ICW_MHC.pdb'",
     "output_type": "error",
     "traceback": [
      "\u001b[0;31m---------------------------------------------------------------------------\u001b[0m",
      "\u001b[0;31mFileNotFoundError\u001b[0m                         Traceback (most recent call last)",
      "Cell \u001b[0;32mIn[2], line 18\u001b[0m\n\u001b[1;32m     16\u001b[0m \u001b[39m# import and clean pdb (superantigen + TCR + MHC)\u001b[39;00m\n\u001b[1;32m     17\u001b[0m \u001b[39mfrom\u001b[39;00m \u001b[39mpyrosetta\u001b[39;00m\u001b[39m.\u001b[39;00m\u001b[39mtoolbox\u001b[39;00m \u001b[39mimport\u001b[39;00m cleanATOM\n\u001b[0;32m---> 18\u001b[0m cleanATOM(\u001b[39m\"\u001b[39;49m\u001b[39m2ICW_MHC.pdb\u001b[39;49m\u001b[39m\"\u001b[39;49m)\n\u001b[1;32m     19\u001b[0m pose \u001b[39m=\u001b[39m pose_from_pdb(\u001b[39m\"\u001b[39m\u001b[39m2ICW_MHC.clean.pdb\u001b[39m\u001b[39m\"\u001b[39m)\n",
      "File \u001b[0;32m/central/groups/MazmanianLab/joeB/software/mambaforge/envs/pyrosetta/lib/python3.9/site-packages/pyrosetta/toolbox/cleaning.py:31\u001b[0m, in \u001b[0;36mcleanATOM\u001b[0;34m(pdb_file, out_file, ext)\u001b[0m\n\u001b[1;32m     21\u001b[0m \u001b[39m\u001b[39m\u001b[39m\"\"\"Extract all ATOM and TER records in a PDB file and write them to a new file.\u001b[39;00m\n\u001b[1;32m     22\u001b[0m \n\u001b[1;32m     23\u001b[0m \u001b[39mArgs:\u001b[39;00m\n\u001b[0;32m   (...)\u001b[0m\n\u001b[1;32m     28\u001b[0m \u001b[39m    ext (str): File extension to use for output file. Defaults to \".clean.pdb\"\u001b[39;00m\n\u001b[1;32m     29\u001b[0m \u001b[39m\"\"\"\u001b[39;00m\n\u001b[1;32m     30\u001b[0m \u001b[39m# find all ATOM and TER lines\u001b[39;00m\n\u001b[0;32m---> 31\u001b[0m \u001b[39mwith\u001b[39;00m \u001b[39mopen\u001b[39;49m(pdb_file, \u001b[39m\"\u001b[39;49m\u001b[39mr\u001b[39;49m\u001b[39m\"\u001b[39;49m) \u001b[39mas\u001b[39;00m fid:\n\u001b[1;32m     32\u001b[0m     good \u001b[39m=\u001b[39m [l \u001b[39mfor\u001b[39;00m l \u001b[39min\u001b[39;00m fid \u001b[39mif\u001b[39;00m l\u001b[39m.\u001b[39mstartswith((\u001b[39m\"\u001b[39m\u001b[39mATOM\u001b[39m\u001b[39m\"\u001b[39m, \u001b[39m\"\u001b[39m\u001b[39mTER\u001b[39m\u001b[39m\"\u001b[39m))]\n\u001b[1;32m     34\u001b[0m \u001b[39m# default output file to <pdb_file>.clean.pdb\u001b[39;00m\n",
      "\u001b[0;31mFileNotFoundError\u001b[0m: [Errno 2] No such file or directory: '2ICW_MHC.pdb'"
     ]
    }
   ],
   "source": [
    "##################################################################\n",
    "################### IMPORT MODULES ###############################\n",
    "##################################################################\n",
    "\n",
    "# import pyrosetta\n",
    "from pyrosetta import *\n",
    "init()\n",
    "\n",
    "# import additional modules\n",
    "from pyrosetta.teaching import *\n",
    "import rosetta.protocols.rigid as rigid_moves\n",
    "from rosetta.protocols.minimization_packing import *\n",
    "from pyrosetta import PyMOLMover\n",
    "\n",
    "\n",
    "# import and clean pdb (superantigen + TCR + MHC)\n",
    "from pyrosetta.toolbox import cleanATOM\n",
    "cleanATOM(\"2ICW_MHC.pdb\")\n",
    "pose = pose_from_pdb(\"2ICW_MHC.clean.pdb\")"
   ]
  },
  {
   "cell_type": "code",
   "execution_count": null,
   "metadata": {},
   "outputs": [],
   "source": [
    "##################################################################\n",
    "################### IMPORT PDB ###################################\n",
    "##################################################################\n",
    "\n",
    "# make full-atom starting pose\n",
    "fa_starting = Pose()\n",
    "fa_starting.assign(pose)\n",
    "# make a full-atom working pose\n",
    "fa_working = Pose()\n",
    "fa_working.assign(pose)"
   ]
  }
 ],
 "metadata": {
  "kernelspec": {
   "display_name": "pyrosetta",
   "language": "python",
   "name": "python3"
  },
  "language_info": {
   "codemirror_mode": {
    "name": "ipython",
    "version": 3
   },
   "file_extension": ".py",
   "mimetype": "text/x-python",
   "name": "python",
   "nbconvert_exporter": "python",
   "pygments_lexer": "ipython3",
   "version": "3.9.17"
  },
  "orig_nbformat": 4
 },
 "nbformat": 4,
 "nbformat_minor": 2
}
